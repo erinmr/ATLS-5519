{
  "nbformat": 4,
  "nbformat_minor": 0,
  "metadata": {
    "colab": {
      "name": "Day 9_ER_Submitted.ipynb",
      "provenance": [],
      "authorship_tag": "ABX9TyOzrUVG+6ryGLbRno2l3xis",
      "include_colab_link": true
    },
    "kernelspec": {
      "name": "python3",
      "display_name": "Python 3"
    },
    "language_info": {
      "name": "python"
    }
  },
  "cells": [
    {
      "cell_type": "markdown",
      "metadata": {
        "id": "view-in-github",
        "colab_type": "text"
      },
      "source": [
        "<a href=\"https://colab.research.google.com/github/erinmr/ATLS-5519/blob/main/Day_9_ER_Submitted.ipynb\" target=\"_parent\"><img src=\"https://colab.research.google.com/assets/colab-badge.svg\" alt=\"Open In Colab\"/></a>"
      ]
    },
    {
      "cell_type": "markdown",
      "source": [
        "# Day 9 \n",
        "\n",
        "## Impractical Project #28: Photoshoot \n",
        "Objective: See http://www.usaco.org/index.php?page=viewproblem2&cpid=1227; For given string, what is the maximum number \n",
        "\n",
        "**Input:** 14 cows and they are GGGHGHHGHHHGHG (7 H and 7 G); Max could be 7 Gs in even spots \n",
        "\n",
        "**Initial Pseudocode** \n",
        "1. input cow string \n",
        "1. count number of G's in even spots (function count) +1 \n",
        "2. slice at 3  \n",
        "3. reverse string and append (function to reverse and append) \n",
        "4. new count number of Gs in even spots \n",
        "5. if new count >= count count = new count \n",
        "6. Reversal +=1 \n",
        "7. Repeat slice for 5, 7, 9, 11, 13 and check   \n",
        "\n",
        "\n",
        "**Class Pseudo** \n",
        "1. Count to the last G in an odd place in the string\n",
        "2. Check if the cow immediately to the right is a  G if yes, ignore, \n",
        "3. If the next cow to the right is not a G, count number of Gs in even positions and total number of Gs to the left. \n",
        "4. If the difference of those currently even and max evens? Yes - Reverse from 1 to the right of current odd cow. \n"
      ],
      "metadata": {
        "id": "ZB4e0dxKMK4s"
      }
    },
    {
      "cell_type": "code",
      "source": [
        "#Solution provided from Contest by Benjamin Qi\n",
        "\n",
        "N = int(input()) # Number of cows \n",
        "s = input()\n",
        " \n",
        "lst = '.' #initialize to a period b/c you will never get a period \n",
        "ans = 0\n",
        " \n",
        "for i in range(0,N,2): #step by 2 through \n",
        "\tif s[i] != s[i+1]: #eliminate the HH and GG \n",
        "\t\t#print(s[i])\n",
        "\t\tif s[i] != lst: #removing the duplicate GH or HG in a row \n",
        "\t\t\tans += 1\n",
        "\t\t\tlst = s[i] \n",
        "\t\t\tprint(lst)\n",
        " \n",
        "if lst == 'H':\n",
        "\tans -= 1\n",
        " \n",
        "print(ans)\n",
        "print(s)"
      ],
      "metadata": {
        "colab": {
          "base_uri": "https://localhost:8080/"
        },
        "id": "NLvfzjeTT44t",
        "outputId": "16b181fa-37e5-412e-fe22-97dc7175257d"
      },
      "execution_count": 42,
      "outputs": [
        {
          "output_type": "stream",
          "name": "stdout",
          "text": [
            "28\n",
            "GGGHGHHGHHHGHGGGGHGHHGHHHGHG\n",
            "G\n",
            "H\n",
            "G\n",
            "H\n",
            "3\n",
            "GGGHGHHGHHHGHGGGGHGHHGHHHGHG\n"
          ]
        }
      ]
    },
    {
      "cell_type": "markdown",
      "source": [
        "# Impractical Project #30: Ribbons\n",
        "\n",
        "**Objective:** See https://dmoj.ca/problem/dmopc17c4p1\n",
        "modified to add purple paint too \n",
        "\n",
        "**Pseudocode:**\n",
        "1. Initialize scarf list \n",
        "1. Add Ps to scarf list for length of scarf\n",
        "2. For each stroke in strokes\n",
        "  - Iniatialize the stroke counter\n",
        "  - For i in range of stroke[0] to stroke[1]: \n",
        "    - scarf[i] = B\n",
        "    - modified if stroke_counter % 2 == 0 (meaning it is even) scarf[i] should be P else scarf[i] = B. This turns B painted squares back to P \n",
        "3. Print scarf\n",
        "4. Count Bs in Scarf \n",
        "5. Count Ps in Scarf\n",
        "6. Print number of B and Ps \n",
        "\n"
      ],
      "metadata": {
        "id": "SciASiEcmD4W"
      }
    },
    {
      "cell_type": "code",
      "source": [
        "N = 4 # Scarf length \n",
        "Q = 3 # Number of paint strokes \n",
        "\n",
        "i = 0 \n",
        "scarf = [] # scarf = ['P'] * N\n",
        "strokes = [[0,2],[1,2],[3,4]] # read from input \n",
        "\n",
        "stroke_counter = 0\n",
        "\n",
        "while i < N: # add P's in each index \n",
        "  scarf.append('P')\n",
        "  i += 1\n",
        "\n",
        "for stroke in strokes: \n",
        "  stroke_counter += 1 #initialize the stroke counter \n",
        "  for i in range(stroke[0], stroke[1]):\n",
        "    if stroke_counter % 2 == 0: # turn the scarf back to P if it is B \n",
        "      scarf[i] = 'P'\n",
        "    else: \n",
        "      scarf[i] = 'B' # Paint initial color B \n",
        "\n",
        "print(scarf) \n",
        "\n",
        "blue_area = scarf.count('B') # count number of Blue areas\n",
        "purple_area = scarf.count('P') # count number of purple areas\n",
        "\n",
        "print(blue_area, purple_area)"
      ],
      "metadata": {
        "colab": {
          "base_uri": "https://localhost:8080/"
        },
        "id": "KTvcqZpjmDVp",
        "outputId": "6e846991-f94b-4345-92f4-3219554ab63b"
      },
      "execution_count": null,
      "outputs": [
        {
          "output_type": "stream",
          "name": "stdout",
          "text": [
            "['B', 'P', 'P', 'B']\n",
            "2 2\n"
          ]
        }
      ]
    },
    {
      "cell_type": "markdown",
      "source": [
        "#Impractical Project #29: COW Operations\n",
        "\n",
        "**Objective:** See http://www.usaco.org/index.php?page=viewproblem2&cpid=1232\n",
        "\n",
        "**Pseudocode**\n",
        "1. Input string of C,O,W \n",
        "2. Input list of COW substrings\n",
        "3. Extrac the start and stops for each substring from COW substring list of lists. Subtract 1 from initial to account for index 0 \n",
        "4. Splice string for start and stop \n",
        "5. From the [analysis of the solution](http://www.usaco.org/current/data/sol_prob3_silver_open22.html) I took the rule if CO is odd and OW is even so:\n",
        "  - if CO count % 2  == 1 and OW % 2 == 0 then Y and append to output str\n",
        "  - else N and append to output str "
      ],
      "metadata": {
        "id": "dzQ1BEg8owFK"
      }
    },
    {
      "cell_type": "code",
      "source": [
        "s = 'COWOW' #Input string \n",
        "outputstr = [] #output answer list \n",
        "#s_lst = list(s)\n",
        "#print(s_lst)\n",
        "Q = 7 # number of cows \n",
        "count = 0\n",
        "cowstr = [[1,1], [1,2], [1,3], [2,2], [2,3], [3,3], [1,5]]\n",
        "options = []\n",
        "\n",
        "\n",
        "for substr in cowstr: # For each substring in the list of lists in cowstring\n",
        "  #print(substr)\n",
        "  \n",
        "  i = substr[0]-1 #slice start \n",
        "  j = substr[1] #slice stop\n",
        "\n",
        "# From the analysis I got the rule for determining Y and N \n",
        "  counter_CO = s[i:j].count('C') + s[i:j].count('O') # count # of C and O\n",
        "  counter_OW = s[i:j].count('O') + s[i:j].count('W') # count # of O and W\n",
        "\n",
        "  if counter_OW % 2 == 0 and counter_CO % 2 ==1: #if OW is even and CO is odd Y \n",
        "    print('Y')\n",
        "    answer = 'Y'\n",
        "    outputstr.append(answer)\n",
        "  else: \n",
        "    print('N')\n",
        "    answer = 'N'\n",
        "    outputstr.append(answer)\n",
        "\n",
        "      \n",
        "  options.append(s[i:j])\n",
        "\n",
        "  print(s[i:j], counter_CO, counter_OW)\n",
        "\n",
        "print(options)\n",
        "print(outputstr)\n",
        "  "
      ],
      "metadata": {
        "colab": {
          "base_uri": "https://localhost:8080/"
        },
        "id": "agY-pIT3dPVK",
        "outputId": "77c37d87-4d3c-474a-a67b-6a74920e354c"
      },
      "execution_count": 37,
      "outputs": [
        {
          "output_type": "stream",
          "name": "stdout",
          "text": [
            "Y\n",
            "C 1 0\n",
            "N\n",
            "CO 2 1\n",
            "N\n",
            "COW 2 2\n",
            "N\n",
            "O 1 1\n",
            "Y\n",
            "OW 1 2\n",
            "N\n",
            "W 0 1\n",
            "Y\n",
            "COWOW 3 4\n",
            "['C', 'CO', 'COW', 'O', 'OW', 'W', 'COWOW']\n",
            "['Y', 'N', 'N', 'N', 'Y', 'N', 'Y']\n"
          ]
        }
      ]
    }
  ]
}