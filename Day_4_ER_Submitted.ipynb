{
  "nbformat": 4,
  "nbformat_minor": 0,
  "metadata": {
    "colab": {
      "name": "Day_4_ER_Submitted.ipynb",
      "provenance": [],
      "authorship_tag": "ABX9TyMr5iiPpuJdLijuQDaPQWpX",
      "include_colab_link": true
    },
    "kernelspec": {
      "name": "python3",
      "display_name": "Python 3"
    },
    "language_info": {
      "name": "python"
    }
  },
  "cells": [
    {
      "cell_type": "markdown",
      "metadata": {
        "id": "view-in-github",
        "colab_type": "text"
      },
      "source": [
        "<a href=\"https://colab.research.google.com/github/erinmr/ATLS-5519/blob/main/Day_4_ER_Submitted.ipynb\" target=\"_parent\"><img src=\"https://colab.research.google.com/assets/colab-badge.svg\" alt=\"Open In Colab\"/></a>"
      ]
    },
    {
      "cell_type": "markdown",
      "source": [
        "# Day 4 \n",
        "\n",
        "We reviewed Problem 3 from Day 1 and discussed how data types make a big difference. \n",
        "\n",
        "Then we tackled problems \n",
        "10, 11 and 12 + de-encrypting a Caesar Cipher. "
      ],
      "metadata": {
        "id": "BcZgX2-M-cNN"
      }
    },
    {
      "cell_type": "markdown",
      "source": [
        "# Impractical Program #10 - Encrypting with reverse cipher\n",
        "\n",
        "Objective: Write a python program that will take a message from the the user, and encrypt it using the reverse cipher. \n",
        "\n",
        "1. Create reverse cipher funciton\n",
        "- for a string reverse txt = \"user input string\"[::-1]\n",
        "- For loop and start from the end and add to a new string\n",
        "- while loop that does the same thing\n",
        "- push all letters on to a stack and pop them off into a new string \n",
        "\n",
        "Notes: We tested these options and \n",
        "\n",
        "2. Take input from user as a word or phrase and assign variable \n",
        "\n",
        "3. Run reverse cipher (user input)\n",
        "\n",
        "4. print out encrypted message -> tupni resu \n",
        "\n"
      ],
      "metadata": {
        "id": "UtB2wLim3uKX"
      }
    },
    {
      "cell_type": "code",
      "execution_count": 25,
      "metadata": {
        "colab": {
          "base_uri": "https://localhost:8080/"
        },
        "id": "z2ZU0WpU3tXB",
        "outputId": "25956746-fc77-4f20-be5e-b71028352746"
      },
      "outputs": [
        {
          "output_type": "stream",
          "name": "stdout",
          "text": [
            "my name is Erin. R'obinson\n"
          ]
        }
      ],
      "source": [
        "import time\n",
        "\n",
        "def reverse_cipher(string): #created reverse cipher function \n",
        "  reverse_string = string[::-1] #it iterates over the list in reverse order\n",
        "\n",
        "  return(reverse_string)\n",
        "\n",
        "\n",
        "txt = \"nosnibo'R .nirE si eman ym\" # encrypted text to de-encrpyt \n",
        "txt = reverse_cipher(txt) #call reverse cipher function \n",
        "print(txt) #print the result of the reverse cipher function "
      ]
    },
    {
      "cell_type": "markdown",
      "source": [
        "An alternate method to doing reverse cipher with a while loop"
      ],
      "metadata": {
        "id": "N0HB5Q4YBhmh"
      }
    },
    {
      "cell_type": "code",
      "source": [
        "import time # we wanted to see how fast these different methods were \n",
        "string = 'nosniboR nirE '*1000\n",
        "start = time.time()\n",
        "\n",
        "i = len(string) - 1 #length of phrase  \n",
        "reverse_cipher='' #initialize the reverse cipher string \n",
        "\n",
        "\n",
        "while i >= 0 :\n",
        "  reverse_cipher = reverse_cipher + string[i-len(string)] #new string that adds the last character to the beginning and works backwards\n",
        "  i = i-1 #iterate on i  \n",
        "  #print(reverse_cipher)\n",
        "  #print(i)\n",
        "  \n",
        "end = time.time() #end time for calculation\n",
        "consumed = end - start #calculate the time it took\n",
        "print(consumed) # print time\n",
        "print(reverse_cipher) #print the reverse cipher message \n"
      ],
      "metadata": {
        "colab": {
          "base_uri": "https://localhost:8080/"
        },
        "id": "M4CNMiT14cf8",
        "outputId": "2b1b42fe-5771-420f-c7a9-81f4f432d8e6"
      },
      "execution_count": 24,
      "outputs": [
        {
          "output_type": "stream",
          "name": "stdout",
          "text": [
            "0.008218050003051758\n",
            " Erin Robinson Erin Robinson Erin Robinson Erin Robinson Erin Robinson Erin Robinson Erin Robinson Erin Robinson Erin Robinson Erin Robinson Erin Robinson Erin Robinson Erin Robinson Erin Robinson Erin Robinson Erin Robinson Erin Robinson Erin Robinson Erin Robinson Erin Robinson Erin Robinson Erin Robinson Erin Robinson Erin Robinson Erin Robinson Erin Robinson Erin Robinson Erin Robinson Erin Robinson Erin Robinson Erin Robinson Erin Robinson Erin Robinson Erin Robinson Erin Robinson Erin Robinson Erin Robinson Erin Robinson Erin Robinson Erin Robinson Erin Robinson Erin Robinson Erin Robinson Erin Robinson Erin Robinson Erin Robinson Erin Robinson Erin Robinson Erin Robinson Erin Robinson Erin Robinson Erin Robinson Erin Robinson Erin Robinson Erin Robinson Erin Robinson Erin Robinson Erin Robinson Erin Robinson Erin Robinson Erin Robinson Erin Robinson Erin Robinson Erin Robinson Erin Robinson Erin Robinson Erin Robinson Erin Robinson Erin Robinson Erin Robinson Erin Robinson Erin Robinson Erin Robinson Erin Robinson Erin Robinson Erin Robinson Erin Robinson Erin Robinson Erin Robinson Erin Robinson Erin Robinson Erin Robinson Erin Robinson Erin Robinson Erin Robinson Erin Robinson Erin Robinson Erin Robinson Erin Robinson Erin Robinson Erin Robinson Erin Robinson Erin Robinson Erin Robinson Erin Robinson Erin Robinson Erin Robinson Erin Robinson Erin Robinson Erin Robinson Erin Robinson Erin Robinson Erin Robinson Erin Robinson Erin Robinson Erin Robinson Erin Robinson Erin Robinson Erin Robinson Erin Robinson Erin Robinson Erin Robinson Erin Robinson Erin Robinson Erin Robinson Erin Robinson Erin Robinson Erin Robinson Erin Robinson Erin Robinson Erin Robinson Erin Robinson Erin Robinson Erin Robinson Erin Robinson Erin Robinson Erin Robinson Erin Robinson Erin Robinson Erin Robinson Erin Robinson Erin Robinson Erin Robinson Erin Robinson Erin Robinson Erin Robinson Erin Robinson Erin Robinson Erin Robinson Erin Robinson Erin Robinson Erin Robinson Erin Robinson Erin Robinson Erin Robinson Erin Robinson Erin Robinson Erin Robinson Erin Robinson Erin Robinson Erin Robinson Erin Robinson Erin Robinson Erin Robinson Erin Robinson Erin Robinson Erin Robinson Erin Robinson Erin Robinson Erin Robinson Erin Robinson Erin Robinson Erin Robinson Erin Robinson Erin Robinson Erin Robinson Erin Robinson Erin Robinson Erin Robinson Erin Robinson Erin Robinson Erin Robinson Erin Robinson Erin Robinson Erin Robinson Erin Robinson Erin Robinson Erin Robinson Erin Robinson Erin Robinson Erin Robinson Erin Robinson Erin Robinson Erin Robinson Erin Robinson Erin Robinson Erin Robinson Erin Robinson Erin Robinson Erin Robinson Erin Robinson Erin Robinson Erin Robinson Erin Robinson Erin Robinson Erin Robinson Erin Robinson Erin Robinson Erin Robinson Erin Robinson Erin Robinson Erin Robinson Erin Robinson Erin Robinson Erin Robinson Erin Robinson Erin Robinson Erin Robinson Erin Robinson Erin Robinson Erin Robinson Erin Robinson Erin Robinson Erin Robinson Erin Robinson Erin Robinson Erin Robinson Erin Robinson Erin Robinson Erin Robinson Erin Robinson Erin Robinson Erin Robinson Erin Robinson Erin Robinson Erin Robinson Erin Robinson Erin Robinson Erin Robinson Erin Robinson Erin Robinson Erin Robinson Erin Robinson Erin Robinson Erin Robinson Erin Robinson Erin Robinson Erin Robinson Erin Robinson Erin Robinson Erin Robinson Erin Robinson Erin Robinson Erin Robinson Erin Robinson Erin Robinson Erin Robinson Erin Robinson Erin Robinson Erin Robinson Erin Robinson Erin Robinson Erin Robinson Erin Robinson Erin Robinson Erin Robinson Erin Robinson Erin Robinson Erin Robinson Erin Robinson Erin Robinson Erin Robinson Erin Robinson Erin Robinson Erin Robinson Erin Robinson Erin Robinson Erin Robinson Erin Robinson Erin Robinson Erin Robinson Erin Robinson Erin Robinson Erin Robinson Erin Robinson Erin Robinson Erin Robinson Erin Robinson Erin Robinson Erin Robinson Erin Robinson Erin Robinson Erin Robinson Erin Robinson Erin Robinson Erin Robinson Erin Robinson Erin Robinson Erin Robinson Erin Robinson Erin Robinson Erin Robinson Erin Robinson Erin Robinson Erin Robinson Erin Robinson Erin Robinson Erin Robinson Erin Robinson Erin Robinson Erin Robinson Erin Robinson Erin Robinson Erin Robinson Erin Robinson Erin Robinson Erin Robinson Erin Robinson Erin Robinson Erin Robinson Erin Robinson Erin Robinson Erin Robinson Erin Robinson Erin Robinson Erin Robinson Erin Robinson Erin Robinson Erin Robinson Erin Robinson Erin Robinson Erin Robinson Erin Robinson Erin Robinson Erin Robinson Erin Robinson Erin Robinson Erin Robinson Erin Robinson Erin Robinson Erin Robinson Erin Robinson Erin Robinson Erin Robinson Erin Robinson Erin Robinson Erin Robinson Erin Robinson Erin Robinson Erin Robinson Erin Robinson Erin Robinson Erin Robinson Erin Robinson Erin Robinson Erin Robinson Erin Robinson Erin Robinson Erin Robinson Erin Robinson Erin Robinson Erin Robinson Erin Robinson Erin Robinson Erin Robinson Erin Robinson Erin Robinson Erin Robinson Erin Robinson Erin Robinson Erin Robinson Erin Robinson Erin Robinson Erin Robinson Erin Robinson Erin Robinson Erin Robinson Erin Robinson Erin Robinson Erin Robinson Erin Robinson Erin Robinson Erin Robinson Erin Robinson Erin Robinson Erin Robinson Erin Robinson Erin Robinson Erin Robinson Erin Robinson Erin Robinson Erin Robinson Erin Robinson Erin Robinson Erin Robinson Erin Robinson Erin Robinson Erin Robinson Erin Robinson Erin Robinson Erin Robinson Erin Robinson Erin Robinson Erin Robinson Erin Robinson Erin Robinson Erin Robinson Erin Robinson Erin Robinson Erin Robinson Erin Robinson Erin Robinson Erin Robinson Erin Robinson Erin Robinson Erin Robinson Erin Robinson Erin Robinson Erin Robinson Erin Robinson Erin Robinson Erin Robinson Erin Robinson Erin Robinson Erin Robinson Erin Robinson Erin Robinson Erin Robinson Erin Robinson Erin Robinson Erin Robinson Erin Robinson Erin Robinson Erin Robinson Erin Robinson Erin Robinson Erin Robinson Erin Robinson Erin Robinson Erin Robinson Erin Robinson Erin Robinson Erin Robinson Erin Robinson Erin Robinson Erin Robinson Erin Robinson Erin Robinson Erin Robinson Erin Robinson Erin Robinson Erin Robinson Erin Robinson Erin Robinson Erin Robinson Erin Robinson Erin Robinson Erin Robinson Erin Robinson Erin Robinson Erin Robinson Erin Robinson Erin Robinson Erin Robinson Erin Robinson Erin Robinson Erin Robinson Erin Robinson Erin Robinson Erin Robinson Erin Robinson Erin Robinson Erin Robinson Erin Robinson Erin Robinson Erin Robinson Erin Robinson Erin Robinson Erin Robinson Erin Robinson Erin Robinson Erin Robinson Erin Robinson Erin Robinson Erin Robinson Erin Robinson Erin Robinson Erin Robinson Erin Robinson Erin Robinson Erin Robinson Erin Robinson Erin Robinson Erin Robinson Erin Robinson Erin Robinson Erin Robinson Erin Robinson Erin Robinson Erin Robinson Erin Robinson Erin Robinson Erin Robinson Erin Robinson Erin Robinson Erin Robinson Erin Robinson Erin Robinson Erin Robinson Erin Robinson Erin Robinson Erin Robinson Erin Robinson Erin Robinson Erin Robinson Erin Robinson Erin Robinson Erin Robinson Erin Robinson Erin Robinson Erin Robinson Erin Robinson Erin Robinson Erin Robinson Erin Robinson Erin Robinson Erin Robinson Erin Robinson Erin Robinson Erin Robinson Erin Robinson Erin Robinson Erin Robinson Erin Robinson Erin Robinson Erin Robinson Erin Robinson Erin Robinson Erin Robinson Erin Robinson Erin Robinson Erin Robinson Erin Robinson Erin Robinson Erin Robinson Erin Robinson Erin Robinson Erin Robinson Erin Robinson Erin Robinson Erin Robinson Erin Robinson Erin Robinson Erin Robinson Erin Robinson Erin Robinson Erin Robinson Erin Robinson Erin Robinson Erin Robinson Erin Robinson Erin Robinson Erin Robinson Erin Robinson Erin Robinson Erin Robinson Erin Robinson Erin Robinson Erin Robinson Erin Robinson Erin Robinson Erin Robinson Erin Robinson Erin Robinson Erin Robinson Erin Robinson Erin Robinson Erin Robinson Erin Robinson Erin Robinson Erin Robinson Erin Robinson Erin Robinson Erin Robinson Erin Robinson Erin Robinson Erin Robinson Erin Robinson Erin Robinson Erin Robinson Erin Robinson Erin Robinson Erin Robinson Erin Robinson Erin Robinson Erin Robinson Erin Robinson Erin Robinson Erin Robinson Erin Robinson Erin Robinson Erin Robinson Erin Robinson Erin Robinson Erin Robinson Erin Robinson Erin Robinson Erin Robinson Erin Robinson Erin Robinson Erin Robinson Erin Robinson Erin Robinson Erin Robinson Erin Robinson Erin Robinson Erin Robinson Erin Robinson Erin Robinson Erin Robinson Erin Robinson Erin Robinson Erin Robinson Erin Robinson Erin Robinson Erin Robinson Erin Robinson Erin Robinson Erin Robinson Erin Robinson Erin Robinson Erin Robinson Erin Robinson Erin Robinson Erin Robinson Erin Robinson Erin Robinson Erin Robinson Erin Robinson Erin Robinson Erin Robinson Erin Robinson Erin Robinson Erin Robinson Erin Robinson Erin Robinson Erin Robinson Erin Robinson Erin Robinson Erin Robinson Erin Robinson Erin Robinson Erin Robinson Erin Robinson Erin Robinson Erin Robinson Erin Robinson Erin Robinson Erin Robinson Erin Robinson Erin Robinson Erin Robinson Erin Robinson Erin Robinson Erin Robinson Erin Robinson Erin Robinson Erin Robinson Erin Robinson Erin Robinson Erin Robinson Erin Robinson Erin Robinson Erin Robinson Erin Robinson Erin Robinson Erin Robinson Erin Robinson Erin Robinson Erin Robinson Erin Robinson Erin Robinson Erin Robinson Erin Robinson Erin Robinson Erin Robinson Erin Robinson Erin Robinson Erin Robinson Erin Robinson Erin Robinson Erin Robinson Erin Robinson Erin Robinson Erin Robinson Erin Robinson Erin Robinson Erin Robinson Erin Robinson Erin Robinson Erin Robinson Erin Robinson Erin Robinson Erin Robinson Erin Robinson Erin Robinson Erin Robinson Erin Robinson Erin Robinson Erin Robinson Erin Robinson Erin Robinson Erin Robinson Erin Robinson Erin Robinson Erin Robinson Erin Robinson Erin Robinson Erin Robinson Erin Robinson Erin Robinson Erin Robinson Erin Robinson Erin Robinson Erin Robinson Erin Robinson Erin Robinson Erin Robinson Erin Robinson Erin Robinson Erin Robinson Erin Robinson Erin Robinson Erin Robinson Erin Robinson Erin Robinson Erin Robinson Erin Robinson Erin Robinson Erin Robinson Erin Robinson Erin Robinson Erin Robinson Erin Robinson Erin Robinson Erin Robinson Erin Robinson Erin Robinson Erin Robinson Erin Robinson Erin Robinson Erin Robinson Erin Robinson Erin Robinson Erin Robinson Erin Robinson Erin Robinson Erin Robinson Erin Robinson Erin Robinson Erin Robinson Erin Robinson Erin Robinson Erin Robinson Erin Robinson Erin Robinson Erin Robinson Erin Robinson Erin Robinson Erin Robinson Erin Robinson Erin Robinson Erin Robinson Erin Robinson Erin Robinson Erin Robinson Erin Robinson Erin Robinson Erin Robinson Erin Robinson Erin Robinson Erin Robinson Erin Robinson Erin Robinson Erin Robinson Erin Robinson Erin Robinson Erin Robinson Erin Robinson Erin Robinson Erin Robinson Erin Robinson Erin Robinson Erin Robinson Erin Robinson Erin Robinson Erin Robinson Erin Robinson Erin Robinson Erin Robinson Erin Robinson Erin Robinson Erin Robinson Erin Robinson Erin Robinson Erin Robinson Erin Robinson Erin Robinson Erin Robinson Erin Robinson Erin Robinson Erin Robinson Erin Robinson Erin Robinson Erin Robinson Erin Robinson Erin Robinson Erin Robinson Erin Robinson Erin Robinson Erin Robinson Erin Robinson Erin Robinson Erin Robinson Erin Robinson Erin Robinson Erin Robinson Erin Robinson Erin Robinson Erin Robinson Erin Robinson Erin Robinson Erin Robinson Erin Robinson Erin Robinson Erin Robinson Erin Robinson Erin Robinson Erin Robinson Erin Robinson Erin Robinson Erin Robinson Erin Robinson Erin Robinson Erin Robinson Erin Robinson Erin Robinson Erin Robinson Erin Robinson Erin Robinson Erin Robinson Erin Robinson Erin Robinson Erin Robinson Erin Robinson Erin Robinson Erin Robinson Erin Robinson Erin Robinson Erin Robinson Erin Robinson Erin Robinson Erin Robinson Erin Robinson Erin Robinson Erin Robinson Erin Robinson Erin Robinson Erin Robinson Erin Robinson Erin Robinson Erin Robinson Erin Robinson Erin Robinson Erin Robinson Erin Robinson Erin Robinson Erin Robinson Erin Robinson Erin Robinson Erin Robinson Erin Robinson Erin Robinson Erin Robinson Erin Robinson Erin Robinson Erin Robinson Erin Robinson Erin Robinson Erin Robinson Erin Robinson Erin Robinson Erin Robinson Erin Robinson Erin Robinson Erin Robinson Erin Robinson Erin Robinson Erin Robinson Erin Robinson Erin Robinson Erin Robinson Erin Robinson Erin Robinson Erin Robinson Erin Robinson Erin Robinson Erin Robinson Erin Robinson Erin Robinson Erin Robinson Erin Robinson Erin Robinson Erin Robinson Erin Robinson Erin Robinson Erin Robinson Erin Robinson Erin Robinson Erin Robinson Erin Robinson Erin Robinson Erin Robinson Erin Robinson Erin Robinson Erin Robinson Erin Robinson Erin Robinson Erin Robinson Erin Robinson Erin Robinson Erin Robinson Erin Robinson Erin Robinson Erin Robinson Erin Robinson Erin Robinson Erin Robinson Erin Robinson Erin Robinson Erin Robinson Erin Robinson Erin Robinson Erin Robinson Erin Robinson Erin Robinson Erin Robinson Erin Robinson Erin Robinson Erin Robinson Erin Robinson Erin Robinson Erin Robinson Erin Robinson Erin Robinson Erin Robinson Erin Robinson Erin Robinson Erin Robinson Erin Robinson Erin Robinson Erin Robinson Erin Robinson Erin Robinson Erin Robinson Erin Robinson Erin Robinson Erin Robinson Erin Robinson Erin Robinson Erin Robinson Erin Robinson Erin Robinson Erin Robinson Erin Robinson Erin Robinson Erin Robinson Erin Robinson Erin Robinson Erin Robinson Erin Robinson Erin Robinson Erin Robinson Erin Robinson Erin Robinson Erin Robinson Erin Robinson Erin Robinson Erin Robinson Erin Robinson Erin Robinson Erin Robinson Erin Robinson Erin Robinson Erin Robinson Erin Robinson Erin Robinson Erin Robinson Erin Robinson Erin Robinson Erin Robinson Erin Robinson Erin Robinson Erin Robinson Erin Robinson Erin Robinson Erin Robinson Erin Robinson Erin Robinson Erin Robinson\n"
          ]
        }
      ]
    },
    {
      "cell_type": "code",
      "source": [
        "import time\n",
        "\n",
        "\n",
        "#decrptedmessage = input(\"Enterthe message you'd like to encrypt\")\n",
        "\n",
        "decryptedmessage= 'this is a secret message.'\n",
        "start = time.time()\n",
        "txt = decryptedmessage[::-1]\n",
        "unencrypt = txt[::-1]\n",
        "end = time.time()\n",
        "consumed = end - start\n",
        "print(consumed)\n",
        "print(unencrypt)"
      ],
      "metadata": {
        "colab": {
          "base_uri": "https://localhost:8080/"
        },
        "id": "95oQy8pI6Opz",
        "outputId": "1d6c730c-78a5-4772-fb3c-7398307ae284"
      },
      "execution_count": 40,
      "outputs": [
        {
          "output_type": "stream",
          "name": "stdout",
          "text": [
            "8.392333984375e-05\n",
            "this is a secret message.\n"
          ]
        }
      ]
    },
    {
      "cell_type": "markdown",
      "source": [
        "#Impractical Program #11: Encrypting using Caesar Cipher \n",
        "\n",
        "Objective: Write a program that takes a message and a key value from the user and provides an encrypted message using the Caesar cipher. \n",
        "\n",
        "**Pseudocode:**\n",
        "1. User enters phrase \n",
        "2. Set phrase to variable \n",
        "3. User enters key\n",
        "4. Set key to variable\n",
        "5. Create the letters list\n",
        "6. read phrase into list \n",
        "7. For each letter \n",
        "- check\n",
        "  - if letter (if punc. or space, skip\n",
        "  -.index to find what number letter it is\n",
        "  - add key to that value, return new charachter \n",
        "- add charachter to output string \n",
        "\n",
        "if K > 26 \n",
        "  - if cipher index is > the length of the list, then subtract length of list key + position /mod 26 -> reaminder = new charachter \n",
        "  25 + 1/26 remainder = 0= a\n",
        "  8 + 13/26\n",
        "\n",
        "  b=1\n",
        "  1-25/26 remainder\n",
        "\n",
        "find it's place in the alphabet\n",
        "- Add key to letter index \n",
        "- Phrase[i] = set new letter \n",
        "8. Print phrase \n",
        "  "
      ],
      "metadata": {
        "id": "S8gz6lhv-fKJ"
      }
    },
    {
      "cell_type": "code",
      "source": [
        "# taken from https://www.thecrazyprogrammer.com/2018/05/caesar-cipher-in-python.html \n",
        "def encrypt(string, shift):\n",
        " \n",
        "  cipher = ''\n",
        "  for char in string:\n",
        "    if char == ' ':\n",
        "      cipher = cipher + char\n",
        "    elif  char.isupper():\n",
        "      cipher = cipher + chr((ord(char) + shift - 65) % 26 + 65) # ORDReturn the integer that represents the character \"h\" 65 for upper case and 97 for lower case \n",
        "\n",
        "\n",
        "    else:\n",
        "      cipher = cipher + chr((ord(char) + shift - 97) % 26 + 97)\n",
        "  \n",
        "  return cipher\n",
        " \n",
        "text = input(\"enter string: \")\n",
        "s = int(input(\"enter shift number: \"))\n",
        "print(\"original string: \", text)\n",
        "print(\"after encryption: \", encrypt(text, s))"
      ],
      "metadata": {
        "colab": {
          "base_uri": "https://localhost:8080/"
        },
        "id": "FUZiAxkh8HZ9",
        "outputId": "ad134351-73c8-429a-867d-1e72903f7edd"
      },
      "execution_count": 72,
      "outputs": [
        {
          "output_type": "stream",
          "name": "stdout",
          "text": [
            "enter string: 2\n",
            "enter shift number: 3\n",
            "original string:  2\n",
            "after encryption:  i\n"
          ]
        }
      ]
    },
    {
      "cell_type": "markdown",
      "source": [
        "Code developed in class "
      ],
      "metadata": {
        "id": "ej8bHQY0NK9z"
      }
    },
    {
      "cell_type": "code",
      "source": [
        "def caesar_right(message,key):\n",
        "  symbolIndex='ABCDEFGHIJKLMNOPQRSTUVWXYZ'\n",
        "  translated = ''\n",
        "\n",
        "  for symbol in message: \n",
        "   \n",
        "    if symbol in symbolIndex: # if letter \n",
        "      symbol_index_value = symbolIndex.find(symbol)\n",
        "\n",
        "      translatedIndex = symbol_index_value + key # create the index for translation \n",
        "\n",
        "\n",
        "      if translatedIndex >= len(symbolIndex): \n",
        "        translatedIndex = translatedIndex - len(symbolIndex)\n",
        "\n",
        "      elif translatedIndex < 0: \n",
        "        translatedIndex = translatedIndex + len(symbolIndex)\n",
        "      \n",
        "      translated = translated + symbolIndex[translatedIndex]\n",
        "    \n",
        "    else: \n",
        "      translated = translated + symbol \n",
        "\n",
        "  return(translated)\n",
        "\n",
        "message = 'THIS IS A MESSAGE'\n",
        "key = 2\n",
        "\n",
        "print(message)\n",
        "encrypted = caesar_right(message,key)\n",
        "\n",
        "print(caesar_right(message,key))"
      ],
      "metadata": {
        "colab": {
          "base_uri": "https://localhost:8080/"
        },
        "id": "7RZuqLdqGC_m",
        "outputId": "6608518b-f9eb-4886-ebab-bc7ad48e69b0"
      },
      "execution_count": 82,
      "outputs": [
        {
          "output_type": "stream",
          "name": "stdout",
          "text": [
            "THIS IS A MESSAGE\n",
            "VJKU KU C OGUUCIG\n"
          ]
        }
      ]
    },
    {
      "cell_type": "markdown",
      "source": [
        "Break the code "
      ],
      "metadata": {
        "id": "D2d2s3rSMJlS"
      }
    },
    {
      "cell_type": "code",
      "source": [
        "\n",
        "\n",
        "i = -25\n",
        "while i < 0: \n",
        "  print(caesar_right(encrypted, i))\n",
        "  i += 1"
      ],
      "metadata": {
        "colab": {
          "base_uri": "https://localhost:8080/"
        },
        "id": "ijs1_pWyHlAN",
        "outputId": "62e786c9-5ae2-448f-84f7-cdc0f31bb032"
      },
      "execution_count": 83,
      "outputs": [
        {
          "output_type": "stream",
          "name": "stdout",
          "text": [
            "WKLV LV D PHVVDJH\n",
            "XLMW MW E QIWWEKI\n",
            "YMNX NX F RJXXFLJ\n",
            "ZNOY OY G SKYYGMK\n",
            "AOPZ PZ H TLZZHNL\n",
            "BPQA QA I UMAAIOM\n",
            "CQRB RB J VNBBJPN\n",
            "DRSC SC K WOCCKQO\n",
            "ESTD TD L XPDDLRP\n",
            "FTUE UE M YQEEMSQ\n",
            "GUVF VF N ZRFFNTR\n",
            "HVWG WG O ASGGOUS\n",
            "IWXH XH P BTHHPVT\n",
            "JXYI YI Q CUIIQWU\n",
            "KYZJ ZJ R DVJJRXV\n",
            "LZAK AK S EWKKSYW\n",
            "MABL BL T FXLLTZX\n",
            "NBCM CM U GYMMUAY\n",
            "OCDN DN V HZNNVBZ\n",
            "PDEO EO W IAOOWCA\n",
            "QEFP FP X JBPPXDB\n",
            "RFGQ GQ Y KCQQYEC\n",
            "SGHR HR Z LDRRZFD\n",
            "THIS IS A MESSAGE\n",
            "UIJT JT B NFTTBHF\n"
          ]
        }
      ]
    },
    {
      "cell_type": "markdown",
      "source": [
        "# Impractical program 12: \n",
        "\n",
        "Objective: Take Caesar code and reverse cipher and let user pick which one and then \n",
        "\n",
        "**Pseudocode: **\n",
        "1. Add both cipher functions \n",
        "2. Ask user which cipher they want to use\n",
        "3. If reverse\n",
        "  - ask for a phrase\n",
        "  - call reverse cipher(phrase) \n",
        "  - print result\n",
        "4. If Caesar\n",
        "  - ask for key and phrase\n",
        "  - call Caesar(phrase, key)\n",
        "  - print result\n",
        "5. Else - try again "
      ],
      "metadata": {
        "id": "pvi2qZpgKyCs"
      }
    },
    {
      "cell_type": "code",
      "source": [
        "def caesar_right(message,key):\n",
        "  symbolIndex='ABCDEFGHIJKLMNOPQRSTUVWXYZ'\n",
        "  translated = ''\n",
        "\n",
        "  for symbol in message: \n",
        "   \n",
        "    if symbol in symbolIndex: # if letter \n",
        "      symbol_index_value = symbolIndex.find(symbol)\n",
        "\n",
        "      translatedIndex = symbol_index_value + key # create the index for translation \n",
        "\n",
        "\n",
        "      if translatedIndex >= len(symbolIndex): \n",
        "        translatedIndex = translatedIndex - len(symbolIndex)\n",
        "\n",
        "      elif translatedIndex < 0: \n",
        "        translatedIndex = translatedIndex + len(symbolIndex)\n",
        "      \n",
        "      translated = translated + symbolIndex[translatedIndex]\n",
        "    \n",
        "    else: \n",
        "      translated = translated + symbol \n",
        "\n",
        "  return(translated)\n",
        "\n",
        "\n",
        "  def reverse_cipher(string):\n",
        "    reverse_string = string[::-1]\n",
        "    return(reverse_string)\n",
        "\n",
        "x = input('make a cipher choice:')\n",
        "\n",
        "if x == 'reverse':\n",
        "  string = input('phrase')\n",
        "  encrypted = reverse_cipher(string)\n",
        "  print(encrypted)\n",
        "\n",
        "elif x == 'caesar':\n",
        "  string = input('phrase')\n",
        "  key = int(input('key'))\n",
        "  encrypted = caesar_right(string,key)\n",
        "  print(encrypted)\n",
        "\n",
        "else: \n",
        "  print('try again')\n",
        "\n",
        "\n"
      ],
      "metadata": {
        "colab": {
          "base_uri": "https://localhost:8080/"
        },
        "id": "gRCYLjT-J6Vq",
        "outputId": "19b8d302-b153-4c9f-8164-0c5e2cb5d683"
      },
      "execution_count": 104,
      "outputs": [
        {
          "output_type": "stream",
          "name": "stdout",
          "text": [
            "make a cipher choice:something\n",
            "try again\n"
          ]
        }
      ]
    }
  ]
}