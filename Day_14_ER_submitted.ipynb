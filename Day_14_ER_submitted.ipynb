{
  "nbformat": 4,
  "nbformat_minor": 0,
  "metadata": {
    "colab": {
      "name": "Day 14_ER_submitted.ipynb",
      "provenance": [],
      "authorship_tag": "ABX9TyPw3ddtkJxsQFRgpDbO0ISN",
      "include_colab_link": true
    },
    "kernelspec": {
      "name": "python3",
      "display_name": "Python 3"
    },
    "language_info": {
      "name": "python"
    }
  },
  "cells": [
    {
      "cell_type": "markdown",
      "metadata": {
        "id": "view-in-github",
        "colab_type": "text"
      },
      "source": [
        "<a href=\"https://colab.research.google.com/github/erinmr/ATLS-5519/blob/main/Day_14_ER_submitted.ipynb\" target=\"_parent\"><img src=\"https://colab.research.google.com/assets/colab-badge.svg\" alt=\"Open In Colab\"/></a>"
      ]
    },
    {
      "cell_type": "markdown",
      "source": [
        "# Day 14 \n",
        "\n",
        "# Impractical Project #38: Sleepy Cow Herding - Bronze \n",
        "Source: http://www.usaco.org/index.php?page=viewproblem2&cpid=915\n",
        "\n",
        "**Pseudocode**\n",
        "1. Read locations into a list\n",
        "1. Sort the cow locations \n",
        "2. for cow i:\n",
        "  - check if interval between cow i and cow i+1 = 1 \n",
        "  - find interval dif between cow i+2 - cow i+1 \n",
        "  - move cow i to 1 + cow i+1 \n",
        "  - check if interval dif between cow i+2 and cow i = 1, if yes continue to next cow \n",
        "  - count += 1 \n",
        "\n",
        "**Class Pseudocode:**\n",
        "1. Check the diff between each cow \n",
        "2. List from smallest to largest with ) if nothing there 0 if cow 1 (or true/false) \n",
        "\n",
        "\n",
        "\n",
        "```\n",
        "#include <iostream>\n",
        "#include <fstream>\n",
        "using namespace std;\n",
        " \n",
        "int main(void)\n",
        "{\n",
        "  int a, b, c;\n",
        "  ifstream fin (\"herding.in\");\n",
        "  fin >> a >> b >> c;\n",
        " \n",
        "  // Arrange in sorted order\n",
        "  if (a > b) swap(a,b);\n",
        "  if (b > c) swap(b,c);\n",
        "  if (a > b) swap(a,b);\n",
        " \n",
        "  ofstream fout (\"herding.out\");\n",
        "  if (c==a+2)\n",
        "    fout << \"0\\n\";\n",
        "  else if (b==a+2 || c==b+2)\n",
        "    fout << \"1\\n\";\n",
        "  else fout << \"2\\n\";\n",
        "  fout << max(b-a, c-b) - 1 << \"\\n\";\n",
        "  return 0;\n",
        "}\n",
        "```\n",
        "\n"
      ],
      "metadata": {
        "id": "eX9sby1FJkw_"
      }
    },
    {
      "cell_type": "code",
      "execution_count": null,
      "metadata": {
        "colab": {
          "base_uri": "https://localhost:8080/"
        },
        "id": "JsfMDW3-JWZ7",
        "outputId": "2ef8d062-af44-4587-a893-7db898f6052d"
      },
      "outputs": [
        {
          "output_type": "stream",
          "name": "stdout",
          "text": [
            "Minimum moves is 2\n",
            "Maximum moves is 499999999\n"
          ]
        }
      ],
      "source": [
        "#working code for Bronze version of sleepy cows\n",
        "\n",
        "herd = [1,500000000,1000000000]\n",
        "interval_dif = 0\n",
        "interval_list= []\n",
        "herd = sorted(herd)\n",
        "#print(herd)\n",
        "density = 100000000000\n",
        "\n",
        "if herd[2] == herd[0]+2: \n",
        "  print('Minimum moves is 0')\n",
        "\n",
        "if herd[1] == herd[0]+2 or herd[2]== herd[1]+2:\n",
        "  print('Minimum moves is 1')\n",
        "\n",
        "else:\n",
        "  print('Minimum moves is 2')\n",
        "\n",
        "for i in range(len(herd)-1):\n",
        "  interval_dif = herd[i+1] - herd[i]\n",
        "  interval_list.append(interval_dif)\n",
        "  #print(interval_dif)\n",
        "\n",
        "max_moves = max(interval_list) - 1\n",
        "print(f'Maximum moves is {max_moves}')\n",
        "\n"
      ]
    },
    {
      "cell_type": "markdown",
      "source": [
        "# Impractical Project #38: Sleepy Cow Herding - Silver\n",
        "source: http://www.usaco.org/index.php?page=viewproblem2&cpid=918 \n",
        "\n",
        "This problem is modified to include more than N cows. In class we worked through how to solve this. There are still cases were the minimum is 2 or greater. The max is always a consistent formula. "
      ],
      "metadata": {
        "id": "dUO0GkLWYAGt"
      }
    },
    {
      "cell_type": "code",
      "source": [
        "def solve_min(A,N):\n",
        "  #print(A)\n",
        "  if (A[N-2]-A[0] == N-2 and A[N-1]-A[N-2]>2): \n",
        "    return(2)\n",
        "  if (A[N-1]-A[1] == N-2 and A[1]-A[0]>2): \n",
        "    return(2)\n",
        "  i = 0\n",
        "  j=0\n",
        "  best=0\n",
        "\n",
        "  for i in range(0,N):\n",
        "\n",
        "    while (j<N-1 and A[j+1]-A[i]<=N-1): \n",
        "      j +=1\n",
        "      best = max(best, j-i+1);\n",
        "      #print(best, j, A[j+1], A[i])\n",
        "  return (N-best)\n",
        "\n",
        "fin = [1, 5, 7, 100000, 15] #[2,7,4,9]\n",
        "fin = sorted(fin)\n",
        "N = len(fin)\n",
        "\n",
        "print(f'this is the min - {solve_min(fin,N)}')\n",
        "\n",
        "answer_max = max(fin[N-2]-fin[0], fin[N-1]-fin[1])-(N-2)\n",
        "\n",
        "print(f'this is the max - {answer_max}')"
      ],
      "metadata": {
        "colab": {
          "base_uri": "https://localhost:8080/"
        },
        "id": "F3XQn8xpYUwb",
        "outputId": "85098422-48a1-4f9f-ad07-eea6c4dbd7b0"
      },
      "execution_count": null,
      "outputs": [
        {
          "output_type": "stream",
          "name": "stdout",
          "text": [
            "this is the min - 3\n",
            "this is the max - 99992\n"
          ]
        }
      ]
    },
    {
      "cell_type": "markdown",
      "source": [
        "# Impractical Project # 39 Revegetation Bronze\n",
        "\n",
        "Source: http://www.usaco.org/index.php?page=viewproblem2&cpid=916\n",
        "\n",
        "Objective: Find a way to feed the cows a diverse diet with minimum amount of types of food. \n",
        "\n",
        "We tried this two ways in class - the first option is to sort and the second option which isn't working is to not sort. "
      ],
      "metadata": {
        "id": "Ik5JYFTFhbJF"
      }
    },
    {
      "cell_type": "code",
      "source": [
        "#this works\n",
        "\n",
        "cows = [[4,1],[2,4],[4,3],[2,5],[1,2],[1,5]]\n",
        "m = 5\n",
        "pastures = []\n",
        "#print(pastures)\n",
        "for cow in cows: \n",
        "  cow = cow.sort()\n",
        "\n",
        "cows = sorted(cows)\n",
        "\n",
        "print(cows)\n",
        "  #if 1 in cow: \n",
        "i = 0 \n",
        "while i < m: \n",
        "  pastures.append(1)\n",
        "  i +=1\n",
        "\n",
        "for cow in cows: \n",
        "  if pastures[cow[0]-1] == pastures[cow[1]-1]:\n",
        "    pastures[cow[1]-1] += 1\n",
        "  \n",
        "  \n",
        "print(pastures)"
      ],
      "metadata": {
        "colab": {
          "base_uri": "https://localhost:8080/"
        },
        "id": "O442SuugaGsL",
        "outputId": "b13cdba1-af96-4216-a5be-19e23bc32321"
      },
      "execution_count": null,
      "outputs": [
        {
          "output_type": "stream",
          "name": "stdout",
          "text": [
            "[[1, 2], [1, 4], [1, 5], [2, 4], [2, 5], [3, 4]]\n",
            "[1, 2, 1, 3, 3]\n"
          ]
        }
      ]
    },
    {
      "cell_type": "code",
      "source": [
        "#attempting to remove the sort and make this work \n",
        "cows = [[4,1],[2,4],[4,3],[2,5],[1,2],[1,5]]\n",
        "m = 5\n",
        "pastures = []\n",
        "#print(pastures)\n",
        "\n",
        "\n",
        "#print(cows)\n",
        "\n",
        "i = 0 \n",
        "while i < m: \n",
        "  pastures.append(1)\n",
        "  i +=1\n",
        "\n",
        "for cow in cows: \n",
        "  if cow[0] > cow[1]: \n",
        "    print(cow[0], cow[1])\n",
        "    if pastures[cow[0]-1] == pastures[cow[1]-1]:\n",
        "      pastures[cow[0]-1] += 1\n",
        "  else: \n",
        "    print('this is else', cow[0], cow[1])\n",
        "    if pastures[cow[0]-1] == pastures[cow[1]-1]:\n",
        "      pastures[cow[1]-1] += 1\n",
        "  \n",
        "print(pastures)"
      ],
      "metadata": {
        "colab": {
          "base_uri": "https://localhost:8080/"
        },
        "id": "76l2xv8OkGC7",
        "outputId": "2db7cc11-eeba-449a-90cf-296b735fc80b"
      },
      "execution_count": null,
      "outputs": [
        {
          "output_type": "stream",
          "name": "stdout",
          "text": [
            "4 1\n",
            "this is else 2 4\n",
            "4 3\n",
            "this is else 2 5\n",
            "this is else 1 2\n",
            "this is else 1 5\n",
            "[1, 2, 1, 2, 2]\n"
          ]
        }
      ]
    }
  ]
}