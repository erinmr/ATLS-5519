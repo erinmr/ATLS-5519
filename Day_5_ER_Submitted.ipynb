{
  "nbformat": 4,
  "nbformat_minor": 0,
  "metadata": {
    "colab": {
      "name": "Day_5_ER_Submitted.ipynb",
      "provenance": [],
      "include_colab_link": true
    },
    "kernelspec": {
      "name": "python3",
      "display_name": "Python 3"
    },
    "language_info": {
      "name": "python"
    }
  },
  "cells": [
    {
      "cell_type": "markdown",
      "metadata": {
        "id": "view-in-github",
        "colab_type": "text"
      },
      "source": [
        "<a href=\"https://colab.research.google.com/github/erinmr/ATLS-5519/blob/main/Day_5_ER_Submitted.ipynb\" target=\"_parent\"><img src=\"https://colab.research.google.com/assets/colab-badge.svg\" alt=\"Open In Colab\"/></a>"
      ]
    },
    {
      "cell_type": "markdown",
      "source": [
        "# Day 5 - June 8, 2022 \n",
        "\n",
        "We continued working with ciphers. \n",
        "\n",
        "#Impractical Program 13 - Brute force Caesar\n",
        "This was included in Day 4 submission. \n",
        "\n",
        "# Impractical Program #14 - encrypting using a transposition cipher \n",
        "\n",
        "Transposition ciphers - moves things around in a given message. \n",
        "\n",
        "Message: This is a message <br> \n",
        "Key = 5 (# of columns) \n",
        "\n",
        "Draw row of cells and assign letter to each cell and build a table \n",
        " - this \n",
        " - is a \n",
        " - messa\n",
        " - ge. \n",
        "\n",
        "Encoding = timghsee i s. sas   a\n",
        "\n",
        "**Pseudocode**\n",
        "1. input a phrase from user \n",
        "2. input a key from user\n",
        "3. Define transposition cipher function (phrase, key)\n",
        "  - initial table with key number of columns \n",
        "  - get phrase len \n",
        "  - divide phrase len/key to get number of rows \n",
        "\n",
        "\n",
        "  - while i lt key # transpose table \n",
        "    - while j lt rows\n",
        "      - read in phrase letter by letter into each cell \n",
        "      - i +k*[row] = value \n",
        "      - if value > key : then break \n",
        "      - j += 1\n",
        "    - i += 1 (after key number go to next row)\n",
        "  \n",
        "  - print strings \n",
        "4. Call transposition cipher function(user phrase, user key) \n",
        "\n",
        "\n",
        "**Alternate Pseudocode from Brian** \n",
        "1. make a matrix \n",
        "2. key = column \n",
        "3. iterate over input\n",
        "4. keep counter to know where in string\n",
        "5. counter % input key = index of column column of the matrix\n",
        "\n"
      ],
      "metadata": {
        "id": "rieH-2tbAPzu"
      }
    },
    {
      "cell_type": "code",
      "execution_count": 12,
      "metadata": {
        "colab": {
          "base_uri": "https://localhost:8080/"
        },
        "id": "9Rcl9yuy_agD",
        "outputId": "837eb607-78ed-4441-f42d-11570255e583"
      },
      "outputs": [
        {
          "output_type": "stream",
          "name": "stdout",
          "text": [
            "Enter a message to encrypt:This is a message\n",
            "Enter the transposition key5\n",
            "The message length is 17\n",
            "The number of blank spaces in the last row is: 3\n",
            "The encrypted message is: Timghseei ssas  a\n"
          ]
        }
      ],
      "source": [
        "import math #We imported math so we could use the math functions below for ceiling \n",
        "\n",
        "message = input('Enter a message to encrypt:')\n",
        "key = int(input('Enter the transposition key')) # the key is the number of columns to create \n",
        "\n",
        "#message = 'THIS IS A longer MESSAGE.' #input message to encrypt\n",
        "print(f'The message length is {len(message)}') # print the message length \n",
        "\n",
        "rows = math.ceil(len(message)/key) #calculate number of rows \n",
        "number_of_blanks = (rows*key) % len(message)\n",
        "print(f'The number of blank spaces in the last row is: {number_of_blanks}')\n",
        "\n",
        "encryptedmessage = '' #initialize the encrypted messgae string\n",
        "\n",
        "i = 0 # counter for length of string\n",
        "j = 0 # counter for number of rows\n",
        "\n",
        "while i < key:\n",
        "  j = 0 #re-initialize j to repeat through rest of rows \n",
        "  while j < rows: \n",
        "    value = i+(key*j)\n",
        "    if value >= len(message): #stop iterating if reach the end of the string \n",
        "      break\n",
        "    #print(input[value])\n",
        "    encryptedmessage += message[value] #append the letter to the encrypted message string\n",
        "    j +=1  #add one to the row counter\n",
        "  i +=1 #add one to the key counter \n",
        "\n",
        "print(f'The encrypted message is: {encryptedmessage}')\n",
        "\n",
        "\n",
        "\n",
        "\n"
      ]
    },
    {
      "cell_type": "markdown",
      "source": [
        "## IP 14: Create a function for the Transposition Cipher\n",
        "Note to self: Do not use input as a variable name if I am trying to add a user input call. "
      ],
      "metadata": {
        "id": "_u92aEfRhiUC"
      }
    },
    {
      "cell_type": "code",
      "source": [
        "import math #We imported math so we could use the math functions below for ceiling \n",
        "\n",
        "def transposition_cipher(text, key): \n",
        "  rows = math.ceil(len(text)/key) #calculate number of rows \n",
        "  number_of_blanks = (rows*key) % len(text)\n",
        "  print(f'The number of blank spaces in the last row is: {number_of_blanks}')\n",
        "\n",
        "  encryptedmessage = '' #initialize the encrypted messgae string\n",
        "\n",
        "  i = 0 # counter for length of string\n",
        "  j = 0 # counter for number of rows\n",
        "\n",
        "  while i < key:\n",
        "    j = 0 #re-initialize j to repeat through rest of rows \n",
        "    while j < rows: \n",
        "      value = i+(key*j)\n",
        "      if value >= len(text): #stop iterating if reach the end of the string \n",
        "        break\n",
        "      #print(input[value])\n",
        "      encryptedmessage += text[value] #append the letter to the encrypted message string\n",
        "      j +=1  #add one to the row counter\n",
        "    i +=1 #add one to the key counter \n",
        "\n",
        "  print(f'The encrypted message is: {encryptedmessage}')\n",
        "  return(encryptedmessage)\n",
        "\n",
        "\n",
        "text = input(\"enter string: \")\n",
        "cols = int(input(\"enter key: \"))\n",
        "\n",
        "#text = 'THIS IS A longer MESSAGE.' #input message to encrypt\n",
        "#cols = 5 # the key is the number of columns to create \n",
        "\n",
        "print(f'The message length is {len(text)}') # print the message length \n",
        "\n",
        "transposition_cipher(text,cols)"
      ],
      "metadata": {
        "colab": {
          "base_uri": "https://localhost:8080/",
          "height": 122
        },
        "id": "z0RfjCMHhnMf",
        "outputId": "b82b342a-8a3f-4625-b174-ccfebe7e84fd"
      },
      "execution_count": 9,
      "outputs": [
        {
          "output_type": "stream",
          "name": "stdout",
          "text": [
            "enter string: this is a message\n",
            "enter key: 5\n",
            "The message length is 17\n",
            "The number of blank spaces in the last row is: 3\n",
            "The encrypted message is: timghseei ssas  a\n"
          ]
        },
        {
          "output_type": "execute_result",
          "data": {
            "text/plain": [
              "'timghseei ssas  a'"
            ],
            "application/vnd.google.colaboratory.intrinsic+json": {
              "type": "string"
            }
          },
          "metadata": {},
          "execution_count": 9
        }
      ]
    },
    {
      "cell_type": "markdown",
      "source": [
        "## IP14: Decode this transposition cipher \n",
        "Ultimately, took code shared in canvas. The tricky part was the number of shaded boxes (or null values at the end of the string - noted above as 'number of blank') "
      ],
      "metadata": {
        "id": "_bhB5bdJMDGS"
      }
    },
    {
      "cell_type": "code",
      "source": [
        "# This is code from canvas\n",
        "def decryptTranspose(key, message):\n",
        "  # The transposition decrypt function will simulate the \"columns\" and\n",
        "  # \"rows\" of the grid that the plaintext is written on by using a list\n",
        "  # of strings. First, we need to calculate a few values.\n",
        "\n",
        "  # The number of \"columns\" in our transposition grid:\n",
        "  numOfColumns = int(math.ceil(len(message) / float(key)))\n",
        "  # The number of \"rows\" in our grid:\n",
        "  numOfRows = key\n",
        "  # The number of \"shaded boxes\" in the last \"column\" of the grid:\n",
        "  numOfShadedBoxes = (numOfColumns * numOfRows) - len(message)\n",
        "\n",
        "  # Each string in plaintext represents a column in the grid:\n",
        "  plaintext = [''] * numOfColumns\n",
        "\n",
        "  # The column and row variables point to where in the grid the next\n",
        "  # character in the encrypted message will go:\n",
        "  column = 0\n",
        "  row = 0\n",
        "\n",
        "  for symbol in message:\n",
        "    plaintext[column] += symbol\n",
        "    column += 1 # Point to the next column.\n",
        "\n",
        "      # If there are no more columns OR we're at a shaded box, go back\n",
        "      # to the first column and the next row:\n",
        "    if (column == numOfColumns) or (column == numOfColumns - 1 and\n",
        "      row >= numOfRows - numOfShadedBoxes):\n",
        "      column = 0\n",
        "      row += 1\n",
        "\n",
        "  return ''.join(plaintext)\n",
        "\n",
        "# This is the message to test -> message = 'TIlrSHSo AI nMGSAgEE  eS.'\n",
        "text = input(\"enter string: \")\n",
        "cols = int(input(\"enter key: \"))\n",
        "\n",
        "print(f'The decrypted message is: {decryptTranspose(cols,text)}')\n",
        "\n"
      ],
      "metadata": {
        "colab": {
          "base_uri": "https://localhost:8080/"
        },
        "id": "mzuJm6PzLeE8",
        "outputId": "f47bf221-cd19-4f72-c0ce-4a5ba72b47da"
      },
      "execution_count": 16,
      "outputs": [
        {
          "output_type": "stream",
          "name": "stdout",
          "text": [
            "enter string: Timghseei ssas  a\n",
            "enter key: 5\n",
            "The decrypted message is: This is a message\n"
          ]
        }
      ]
    },
    {
      "cell_type": "markdown",
      "source": [
        "# Impractical 15 - Simple substitution cipher.\n",
        "\n",
        "Objective: Write a program that takes a message and key index from the user and provides an encrypted message using simple substitution\n",
        "\n",
        "alpha -> a b c d <br>\n",
        "key index -> V j z b \n",
        "\n",
        "**Pseudocode**\n",
        "1. Create initial alphabet\n",
        "2. Create a cipher alphabet of same length \n",
        "3. For letter in the initial alphabet \n",
        "  - find the letter in the cipher key index\n",
        "  - find the the cipher key index for "
      ],
      "metadata": {
        "id": "bqblXcygZ27_"
      }
    },
    {
      "cell_type": "code",
      "source": [
        "# this establishes that we can search back and forth between our two lists. \n",
        "initial = 'abcdefghijklmnopqrstuvwxyz' #initial alphabet \n",
        "cipher = 'qwertyuiopasdfghjklzxcvbnm' # key index which is keyboard letters  \n",
        "\n",
        "phrase = 'this is a message' \n",
        "length = 26\n",
        "i = 0 \n",
        "\n",
        "for letter in initial: \n",
        "  value = initial[cipher.find(letter)] #for a in initial it is k in the cipher key index\n",
        "  value2= cipher[initial.find(letter)] #for a in initial the cipher is q in the a position \n",
        "  print(f'The value of {letter} in the cipher key index is {value}. The cipher value of {letter} is {value2}')\n",
        "  #print(value2)\n"
      ],
      "metadata": {
        "id": "bPbm3es4Vkt2"
      },
      "execution_count": null,
      "outputs": []
    },
    {
      "cell_type": "markdown",
      "source": [
        "# Now test this with a phrase and create a function"
      ],
      "metadata": {
        "id": "XoBlrkP4l8PJ"
      }
    },
    {
      "cell_type": "code",
      "source": [
        "def substitution_cipher(initial, cipher, phrase):\n",
        "  encrypted_message='' #initialize the encrypted string \n",
        "\n",
        "  for letter in phrase: \n",
        "    if letter not in cipher:\n",
        "      encrypted_message += letter \n",
        "      continue\n",
        "    #value = initial[cipher.find(letter)]\n",
        "    value2= cipher[initial.find(letter)]\n",
        "    #print(value)\n",
        "    #append.value2\n",
        "    encrypted_message += value2\n",
        "    #print(value2)\n",
        "  return(encrypted_message)\n",
        "  \n",
        "\n",
        "\n",
        "initial = 'abcdefghijklmnopqrstuvwxyz'\n",
        "cipher = 'qwertyuiopasdfghjklzxcvbnm'\n",
        "phrase =  input(\"enter string: \") #phrase to encrypt\n",
        "print(phrase)\n",
        "substitution_cipher(initial, cipher, phrase)"
      ],
      "metadata": {
        "colab": {
          "base_uri": "https://localhost:8080/",
          "height": 70
        },
        "id": "KYnXNQajcBQY",
        "outputId": "6ae03ac1-c0f4-41d9-b36d-6f7535172265"
      },
      "execution_count": 20,
      "outputs": [
        {
          "output_type": "stream",
          "name": "stdout",
          "text": [
            "enter string: This is a message\n",
            "This is a message\n"
          ]
        },
        {
          "output_type": "execute_result",
          "data": {
            "text/plain": [
              "'Tiol ol q dtllqut'"
            ],
            "application/vnd.google.colaboratory.intrinsic+json": {
              "type": "string"
            }
          },
          "metadata": {},
          "execution_count": 20
        }
      ]
    },
    {
      "cell_type": "markdown",
      "source": [
        "## IP 15: Decrypt simple substitution & create a function\n",
        "\n",
        "**Pseudocode**\n",
        "1. Create initial alphabet\n",
        "2. Create a cipher alphabet of same length \n",
        "3. For letter in the initial alphabet \n",
        "  - find the letter in the cipher key index\n",
        "  - if letter isn't in the cipher, just add the letter. This handles punctuation\n",
        "4. Add letter to the unencrypted message string\n",
        "5. Print string "
      ],
      "metadata": {
        "id": "s1RRaoIMf2U3"
      }
    },
    {
      "cell_type": "code",
      "source": [
        "def unencrypt_substitution_cipher(initial, cipher, phrase): #created a function with three variables - initial alpha, cipher alpha and phrase \n",
        "  unencrypted_message='' #initial the string \n",
        "\n",
        "  for letter in phrase: \n",
        "    if letter not in cipher: #if letter isn't in cipher, just add the letter and continue the for loop. Handles numbers, capitals, punctuation etc. \n",
        "      unencrypted_message += letter\n",
        "      continue\n",
        "    value = initial[cipher.find(letter)] \n",
        "    #value2= cipher[initial.find(letter)]\n",
        "    #print(value)\n",
        "    #append.value2\n",
        "    unencrypted_message += value\n",
        "    #print(value2)\n",
        "  return(f'This is the decrypted substition message: {unencrypted_message}')\n",
        "\n",
        "initial = 'abcdefghijklmnopqrstuvwxyz'\n",
        "cipher = 'qwertyuiopasdfghjklzxcvbnm'\n",
        "phrase =  input(\"enter string: \") #phrase to encrypt\n",
        "#phrase = 'ziol ol q dtllqut'\n",
        "\n",
        "unencrypt_substitution_cipher(initial, cipher, phrase)"
      ],
      "metadata": {
        "id": "cvWII_w8daZo",
        "colab": {
          "base_uri": "https://localhost:8080/",
          "height": 53
        },
        "outputId": "e01eadfb-95e6-4065-ae61-f2e2e1b0e12f"
      },
      "execution_count": 22,
      "outputs": [
        {
          "name": "stdout",
          "output_type": "stream",
          "text": [
            "enter string: Tiol ol q dtllqut\n"
          ]
        },
        {
          "output_type": "execute_result",
          "data": {
            "text/plain": [
              "'This is the decrypted substition message: This is a message'"
            ],
            "application/vnd.google.colaboratory.intrinsic+json": {
              "type": "string"
            }
          },
          "metadata": {},
          "execution_count": 22
        }
      ]
    },
    {
      "cell_type": "markdown",
      "source": [
        "# Impractical Project #16: Decrypt the Transpose and Substitution Ciphers\n",
        "\n",
        "Objective: Add the ability to decrypt transposition and simple substitution to your IP#12 from yesterday.\n",
        "\n",
        "Additionally, add the ability for the user (Anthony) to encrypt in the same program using any of the four encryption methods.\n",
        "\n",
        "# Part 1 - Extend IP 12 with decoding for transpose and reverse \n",
        "\n",
        "\n"
      ],
      "metadata": {
        "id": "7YNbXxRiflGJ"
      }
    },
    {
      "cell_type": "code",
      "source": [
        "def caesar_right(message,key): \n",
        "  symbolIndex='ABCDEFGHIJKLMNOPQRSTUVWXYZ'\n",
        "  translated = ''\n",
        "\n",
        "  message = message.upper()\n",
        "\n",
        "  for symbol in message: \n",
        "   \n",
        "    if symbol in symbolIndex: # if letter \n",
        "      symbol_index_value = symbolIndex.find(symbol)\n",
        "\n",
        "      translatedIndex = symbol_index_value + key # create the index for translation \n",
        "\n",
        "\n",
        "      if translatedIndex >= len(symbolIndex): \n",
        "        translatedIndex = translatedIndex - len(symbolIndex)\n",
        "\n",
        "      elif translatedIndex < 0: \n",
        "        translatedIndex = translatedIndex + len(symbolIndex)\n",
        "      \n",
        "      translated = translated + symbolIndex[translatedIndex]\n",
        "    \n",
        "    else: \n",
        "      translated = translated + symbol \n",
        "\n",
        "  return(translated)\n",
        "\n",
        "\n",
        "def reverse_cipher(string):\n",
        "  reverse_string = string[::-1]\n",
        "  return(reverse_string)\n",
        "\n",
        "# This is code from canvas\n",
        "def decrypttranspose(key, message): #decryptTransposition\n",
        "  # The transposition decrypt function will simulate the \"columns\" and\n",
        "  # \"rows\" of the grid that the plaintext is written on by using a list\n",
        "  # of strings. First, we need to calculate a few values.\n",
        "\n",
        "  # The number of \"columns\" in our transposition grid:\n",
        "  numOfColumns = int(math.ceil(len(message) / float(key)))\n",
        "  # The number of \"rows\" in our grid:\n",
        "  numOfRows = key\n",
        "  # The number of \"shaded boxes\" in the last \"column\" of the grid:\n",
        "  numOfShadedBoxes = (numOfColumns * numOfRows) - len(message)\n",
        "\n",
        "  # Each string in plaintext represents a column in the grid:\n",
        "  plaintext = [''] * numOfColumns\n",
        "\n",
        "  # The column and row variables point to where in the grid the next\n",
        "  # character in the encrypted message will go:\n",
        "  column = 0\n",
        "  row = 0\n",
        "\n",
        "  for symbol in message:\n",
        "    plaintext[column] += symbol\n",
        "    column += 1 # Point to the next column.\n",
        "\n",
        "      # If there are no more columns OR we're at a shaded box, go back\n",
        "      # to the first column and the next row:\n",
        "    if (column == numOfColumns) or (column == numOfColumns - 1 and\n",
        "      row >= numOfRows - numOfShadedBoxes):\n",
        "      column = 0\n",
        "      row += 1\n",
        "\n",
        "  return ''.join(plaintext) \n",
        "\n",
        "def unencrypt_substitution_cipher(initial, cipher, phrase): #created a function with three variables - initial alpha, cipher alpha and phrase \n",
        "  unencrypted_message='' #initial the string \n",
        "\n",
        "  for letter in phrase: \n",
        "    if letter not in cipher: #if letter isn't in cipher, just add the letter and continue the for loop. Handles numbers, capitals, punctuation etc. \n",
        "      unencrypted_message += letter\n",
        "      continue\n",
        "    value = initial[cipher.find(letter)] \n",
        "    #value2= cipher[initial.find(letter)]\n",
        "    #print(value)\n",
        "    #append.value2\n",
        "    unencrypted_message += value\n",
        "    #print(value2)\n",
        "  return(unencrypted_message)\n",
        "\n",
        "\n",
        "x = input('make a cipher choice to decrypt reverse, caesar, transpose, substitute:')\n",
        "\n",
        "if x == 'reverse':\n",
        "  string = input('Enter phrase to decrypt')\n",
        "  encrypted = reverse_cipher(string)\n",
        "  print(encrypted)\n",
        "\n",
        "elif x == 'caesar':\n",
        "  string = input('Enter phrase to decrypt')\n",
        "  key = int(input('Enter key used in encryption'))*-1 #revereses the caesar to decripty \n",
        "  encrypted = caesar_right(string,key)\n",
        "  print(encrypted)\n",
        "\n",
        "elif x == 'transpose':\n",
        "  string = input('Enter phrase to decrypt')\n",
        "  key = int(input('Enter key used in encryption')) #revereses the caesar to decripty \n",
        "  encrypted = decrypttranspose(key, string)\n",
        "  print(encrypted)\n",
        "\n",
        "elif x =='substitute':\n",
        "  initial = 'abcdefghijklmnopqrstuvwxyz'\n",
        "  cipher = 'qwertyuiopasdfghjklzxcvbnm'\n",
        "  string = input('Enter phrase to decrypt')\n",
        "  encrypted = unencrypt_substitution_cipher(initial, cipher, phrase)\n",
        "  print(encrypted)\n",
        "\n",
        "else: \n",
        "  print('try again')\n"
      ],
      "metadata": {
        "colab": {
          "base_uri": "https://localhost:8080/"
        },
        "id": "M9Z7GK7NYZ8d",
        "outputId": "9786deee-0605-4d41-bb31-df98cbc42ce0"
      },
      "execution_count": 30,
      "outputs": [
        {
          "output_type": "stream",
          "name": "stdout",
          "text": [
            "make a cipher choice to decrypt reverse, caesar, transpose, substitute:substitute\n",
            "Enter phrase to decryptTiol ol q dtllqut\n",
            "This is a message\n"
          ]
        }
      ]
    },
    {
      "cell_type": "markdown",
      "source": [
        "# IP 16 Part 2: Add to IP 16 the ability to encrypt or decrypt \n",
        "\n",
        "Objective: Additionally, add the ability for the user (Anthony) to encrypt in the same program using any of the four encryption methods.\n",
        "\n",
        "\n"
      ],
      "metadata": {
        "id": "6buEUfOfc2HI"
      }
    },
    {
      "cell_type": "code",
      "source": [
        "def caesar_right(message,key): \n",
        "  symbolIndex='ABCDEFGHIJKLMNOPQRSTUVWXYZ'\n",
        "  translated = ''\n",
        "\n",
        "  message = message.upper()\n",
        "\n",
        "  for symbol in message: \n",
        "   \n",
        "    if symbol in symbolIndex: # if letter \n",
        "      symbol_index_value = symbolIndex.find(symbol)\n",
        "\n",
        "      translatedIndex = symbol_index_value + key # create the index for translation \n",
        "\n",
        "\n",
        "      if translatedIndex >= len(symbolIndex): \n",
        "        translatedIndex = translatedIndex - len(symbolIndex)\n",
        "\n",
        "      elif translatedIndex < 0: \n",
        "        translatedIndex = translatedIndex + len(symbolIndex)\n",
        "      \n",
        "      translated = translated + symbolIndex[translatedIndex]\n",
        "    \n",
        "    else: \n",
        "      translated = translated + symbol \n",
        "\n",
        "  return(translated)\n",
        "\n",
        "\n",
        "def reverse_cipher(string):\n",
        "  reverse_string = string[::-1]\n",
        "  return(reverse_string)\n",
        "\n",
        "def transposition_cipher(text, key): \n",
        "  rows = math.ceil(len(text)/key) #calculate number of rows \n",
        "  number_of_blanks = (rows*key) % len(text)\n",
        "  print(f'The number of blank spaces in the last row is: {number_of_blanks}')\n",
        "\n",
        "  encryptedmessage = '' #initialize the encrypted messgae string\n",
        "\n",
        "  i = 0 # counter for length of string\n",
        "  j = 0 # counter for number of rows\n",
        "\n",
        "  while i < key:\n",
        "    j = 0 #re-initialize j to repeat through rest of rows \n",
        "    while j < rows: \n",
        "      value = i+(key*j)\n",
        "      if value >= len(text): #stop iterating if reach the end of the string \n",
        "        break\n",
        "      #print(input[value])\n",
        "      encryptedmessage += text[value] #append the letter to the encrypted message string\n",
        "      j +=1  #add one to the row counter\n",
        "    i +=1 #add one to the key counter \n",
        "\n",
        "  print(f'The encrypted message is: {encryptedmessage}')\n",
        "  return(encryptedmessage)\n",
        "\n",
        "# This is code from canvas\n",
        "def decrypttranspose(key, message): #decryptTransposition\n",
        "  # The transposition decrypt function will simulate the \"columns\" and\n",
        "  # \"rows\" of the grid that the plaintext is written on by using a list\n",
        "  # of strings. First, we need to calculate a few values.\n",
        "\n",
        "  # The number of \"columns\" in our transposition grid:\n",
        "  numOfColumns = int(math.ceil(len(message) / float(key)))\n",
        "  # The number of \"rows\" in our grid:\n",
        "  numOfRows = key\n",
        "  # The number of \"shaded boxes\" in the last \"column\" of the grid:\n",
        "  numOfShadedBoxes = (numOfColumns * numOfRows) - len(message)\n",
        "\n",
        "  # Each string in plaintext represents a column in the grid:\n",
        "  plaintext = [''] * numOfColumns\n",
        "\n",
        "  # The column and row variables point to where in the grid the next\n",
        "  # character in the encrypted message will go:\n",
        "  column = 0\n",
        "  row = 0\n",
        "\n",
        "  for symbol in message:\n",
        "    plaintext[column] += symbol\n",
        "    column += 1 # Point to the next column.\n",
        "\n",
        "      # If there are no more columns OR we're at a shaded box, go back\n",
        "      # to the first column and the next row:\n",
        "    if (column == numOfColumns) or (column == numOfColumns - 1 and\n",
        "      row >= numOfRows - numOfShadedBoxes):\n",
        "      column = 0\n",
        "      row += 1\n",
        "\n",
        "  return ''.join(plaintext) \n",
        "\n",
        "def substitution_cipher(initial, cipher, phrase):\n",
        "  encrypted_message='' #initialize the encrypted string \n",
        "\n",
        "  for letter in phrase: \n",
        "    if letter not in cipher:\n",
        "      encrypted_message += letter \n",
        "      continue\n",
        "    #value = initial[cipher.find(letter)]\n",
        "    value2= cipher[initial.find(letter)]\n",
        "    #print(value)\n",
        "    #append.value2\n",
        "    encrypted_message += value2\n",
        "    #print(value2)\n",
        "  return(encrypted_message)\n",
        "  \n",
        "\n",
        "\n",
        "def unencrypt_substitution_cipher(initial, cipher, phrase): #created a function with three variables - initial alpha, cipher alpha and phrase \n",
        "  unencrypted_message='' #initial the string \n",
        "\n",
        "  for letter in phrase: \n",
        "    if letter not in cipher: #if letter isn't in cipher, just add the letter and continue the for loop. Handles numbers, capitals, punctuation etc. \n",
        "      unencrypted_message += letter\n",
        "      continue\n",
        "    value = initial[cipher.find(letter)] \n",
        "    #value2= cipher[initial.find(letter)]\n",
        "    #print(value)\n",
        "    #append.value2\n",
        "    unencrypted_message += value\n",
        "    #print(value2)\n",
        "  return(unencrypted_message)\n",
        "\n",
        "y = input('Do you want to encrypt or decrypt? Enter encrypt or decrypt as choice:')\n",
        "\n",
        "if y == 'decrypt':\n",
        "\n",
        "  x = input('Make a cipher choice to decrypt. Enter reverse, caesar, transpose, substitute:')\n",
        "\n",
        "  if x == 'reverse':\n",
        "    string = input('Enter phrase to decrypt')\n",
        "    encrypted = reverse_cipher(string)\n",
        "    print(encrypted)\n",
        "\n",
        "  elif x == 'caesar':\n",
        "    string = input('Enter phrase to decrypt')\n",
        "    key = int(input('Enter key used in encryption'))*-1 #revereses the caesar to decripty \n",
        "    encrypted = caesar_right(string,key)\n",
        "    print(encrypted)\n",
        "\n",
        "  elif x == 'transpose':\n",
        "    string = input('Enter phrase to decrypt')\n",
        "    key = int(input('Enter key used in encryption')) #revereses the caesar to decripty \n",
        "    encrypted = decrypttranspose(key, string)\n",
        "    print(encrypted)\n",
        "\n",
        "  elif x =='substitute':\n",
        "    initial = 'abcdefghijklmnopqrstuvwxyz'\n",
        "    cipher = 'qwertyuiopasdfghjklzxcvbnm'\n",
        "    phrase = input('Enter phrase to decrypt')\n",
        "    encrypted = unencrypt_substitution_cipher(initial, cipher, phrase)\n",
        "    print(encrypted)\n",
        "\n",
        "  else: \n",
        "    print('try again')\n",
        "\n",
        "elif y == 'encrypt':\n",
        "\n",
        "  x = input('Make a cipher choice to encrypt. Enter reverse, caesar, transpose, substitute:')\n",
        "\n",
        "  if x == 'reverse':\n",
        "    string = input('Enter phrase to encrypt')\n",
        "    encrypted = reverse_cipher(string)\n",
        "    print(encrypted)\n",
        "\n",
        "  elif x == 'caesar':\n",
        "    string = input('Enter phrase to encrypt')\n",
        "    key = int(input('Enter key used in encryption'))\n",
        "    encrypted = caesar_right(string,key)\n",
        "    print(encrypted)\n",
        "\n",
        "  elif x == 'transpose':\n",
        "    string = input('Enter phrase to encrypt')\n",
        "    key = int(input('Enter key used in encryption')) \n",
        "    encrypted = transposition_cipher(string, key)\n",
        "    print(encrypted)\n",
        "\n",
        "  elif x =='substitute':\n",
        "    initial = 'abcdefghijklmnopqrstuvwxyz' #made choice not to ask the user for an alphabet \n",
        "    cipher = 'qwertyuiopasdfghjklzxcvbnm' # made choice not to ask user for cipher key \n",
        "    phrase = input('Enter phrase to encrypt')\n",
        "    encrypted = substitution_cipher(initial, cipher, phrase)\n",
        "    print(encrypted)\n",
        "\n",
        "  else: \n",
        "    print('try again')\n"
      ],
      "metadata": {
        "colab": {
          "base_uri": "https://localhost:8080/"
        },
        "id": "oCE-2zQ8dSnl",
        "outputId": "0d8a63b2-f28d-43a2-900b-3c05917b4733"
      },
      "execution_count": 6,
      "outputs": [
        {
          "output_type": "stream",
          "name": "stdout",
          "text": [
            "Do you want to encrypt or decrypt? Enter encrypt or decrypt as choice:encrypt\n",
            "Make a cipher choice to encrypt. Enter reverse, caesar, transpose, substitute:reverse\n",
            "Enter phrase to encryptErin Robinson\n",
            "nosniboR nirE\n"
          ]
        }
      ]
    },
    {
      "cell_type": "code",
      "source": [
        ""
      ],
      "metadata": {
        "id": "Y7F781QdgTEm"
      },
      "execution_count": null,
      "outputs": []
    }
  ]
}