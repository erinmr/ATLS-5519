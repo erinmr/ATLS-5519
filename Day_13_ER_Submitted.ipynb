{
  "nbformat": 4,
  "nbformat_minor": 0,
  "metadata": {
    "colab": {
      "name": "Day_13_ER_Submitted.ipynb",
      "provenance": [],
      "authorship_tag": "ABX9TyOkRzOISqabd/pj7t2hreYs",
      "include_colab_link": true
    },
    "kernelspec": {
      "name": "python3",
      "display_name": "Python 3"
    },
    "language_info": {
      "name": "python"
    }
  },
  "cells": [
    {
      "cell_type": "markdown",
      "metadata": {
        "id": "view-in-github",
        "colab_type": "text"
      },
      "source": [
        "<a href=\"https://colab.research.google.com/github/erinmr/ATLS-5519/blob/main/Day_13_ER_Submitted.ipynb\" target=\"_parent\"><img src=\"https://colab.research.google.com/assets/colab-badge.svg\" alt=\"Open In Colab\"/></a>"
      ]
    },
    {
      "cell_type": "markdown",
      "source": [
        "#Day 13 - June 28, 2022\n",
        "\n",
        "## Impractical Project #35: Card Game \n",
        "Objective: keep score for two player game \n",
        "Source: https://dmoj.ca/problem/ccc99s1\n",
        "\n",
        "Assumption: next two cards not next plays; Needs card.txt file to run \n",
        "\n",
        "**Pseudocode:**\n",
        "1. read in the cards as a list \n",
        "2. set two variables for player A and player b score and set both to 0\n",
        "3. Set turn variable = 0 \n",
        "3. for card in card deck (0,52) \n",
        "  - card = card[i] \n",
        "    - If card == 'ace' and card deck > 4 cards: \n",
        "    check the next four lines for high cards\n",
        "      - If there is a high card go to high card if\n",
        "      - if not, print('Player ??A or B?? scores 4 point(s)) and add score player +=4' \n",
        "    \n",
        "    - If card == 'king' and card deck > 3 cards: \n",
        "      - If there is a high card go to high card if\n",
        "      - if not, print('Player ??A or B?? scores 3 point(s)) and add score player +=3' \n",
        "\n",
        "    - If card == 'queen' and card deck > 2 cards: \n",
        "      - If there is a high card go to high card if\n",
        "      - if not, print('Player ??A or B?? scores 2 point(s)) and add score player +=2'   \n",
        "\n",
        "    - If card == 'jack' and card deck > 1 cards: \n",
        "      - If there is a high card go to high card if\n",
        "      - if not, print('Player ??A or B?? scores 1 point(s)) and add score player +=1\n",
        "\n",
        "    - else go to next player \n",
        "   \n",
        "   if turn % 2 == 0 then player A turn else player b turn \n",
        "   \n",
        "   card_count +=1\n",
        "\n",
        "\n",
        "**Class Pseudocode:**\n",
        "- create a class that captures the last high card, the number of cards and the player that drew "
      ],
      "metadata": {
        "id": "0Gk9xCWi_rN7"
      }
    },
    {
      "cell_type": "code",
      "source": [
        "with open('cards.txt') as f:\n",
        "  lines = f.readlines()\n",
        "\n",
        "highcards = ['ace', 'king','queen','jack']\n",
        "playerA = True\n",
        "counter = 0 \n",
        "playerA_count = 0\n",
        "playerB_count = 0\n",
        "\n",
        "for line in lines:\n",
        "  line = line.strip()\n",
        "  #print(line)\n",
        "  #print([lines[counter+3].strip()])\n",
        "  if line == highcards[0] and lines[counter+4].strip() not in highcards and lines[counter+3].strip() not in highcards and lines[counter+2].strip() not in highcards and lines[counter+1].strip() not in highcards: \n",
        "    if playerA is True:\n",
        "      print('player A scores 4 pt')\n",
        "      playerA_count += 4\n",
        "    if playerA is not True:\n",
        "      print('player B scores 4 pt')\n",
        "      playerB_count += 4\n",
        "  \n",
        "  if line == highcards[1] and lines[counter+3].strip() not in highcards and lines[counter+2].strip() not in highcards and lines[counter+1].strip() not in highcards: \n",
        "    if playerA is True:\n",
        "      print('player A scores 3 pt')\n",
        "      playerA_count += 3\n",
        "    if playerA is not True:\n",
        "      print('player B scores 3 pt')\n",
        "      playerB_count += 3\n",
        "\n",
        "  if line == highcards[2] and lines[counter+2].strip() not in highcards and lines[counter+1].strip() not in highcards: \n",
        "    if playerA is True:\n",
        "      print('player A scores 2 pt')\n",
        "      playerA_count += 2\n",
        "    if playerA is not True:\n",
        "      print('player B scores 2 pt')\n",
        "      playerB_count += 2\n",
        "      \n",
        "\n",
        "  if line == highcards[3] and lines[counter+1].strip() not in highcards:\n",
        "    if playerA is True:\n",
        "      print('player A scores 1 pt')\n",
        "      playerA_count += 1\n",
        "    if playerA is not True:\n",
        "      print('player B scores 1 pt')\n",
        "      playerB_count += 1\n",
        "\n",
        "  \n",
        "  playerA = not(playerA)\n",
        "  #print(playerA)\n",
        "  counter +=1\n",
        "\n",
        "\n",
        "print(f'final score - Player A {playerA_count} and Player B {playerB_count}')"
      ],
      "metadata": {
        "colab": {
          "base_uri": "https://localhost:8080/"
        },
        "id": "mS5in8Q_aYVa",
        "outputId": "fb01624f-dc3c-48e7-b635-bf1f8bec200b"
      },
      "execution_count": 33,
      "outputs": [
        {
          "output_type": "stream",
          "name": "stdout",
          "text": [
            "player A scores 2 pt\n",
            "player A scores 1 pt\n",
            "player A scores 3 pt\n",
            "player B scroes 3 pt\n",
            "player A scores 1 pt\n",
            "player B scroes 4 pt\n",
            "final score - Player A 7 and Player B 7\n"
          ]
        }
      ]
    },
    {
      "cell_type": "markdown",
      "source": [
        "# Impractical Project #36: Cleaning a room\n",
        "\n",
        "Objective: https://acm.timus.ru/problem.aspx?space=1&num=2144&locale=en \n",
        "\n",
        "**Pseudocode** \n",
        "\n",
        "1. Create a list of lists \n",
        "2. Create a function that tests if the action figures are ascending in the box. Return true if the check passes. \n",
        "2. Create a function that creates a tuple of min/max and then checks to see if there are any boxes that fit between the min/max of another box. Return true if this check passes\n",
        "3. If both checks are true, then she can clean her room. If either check fails, she won't be able to clean her room. "
      ],
      "metadata": {
        "id": "9UDYKczNL-Fz"
      }
    },
    {
      "cell_type": "code",
      "source": [
        "\n",
        "\n",
        "\n",
        "action_figures = [[1, 2], [3,4], [5]]\n",
        " \n",
        "# first step \n",
        "\n",
        "def checkone(boxes):\n",
        "  for box in boxes: \n",
        "    sort_action = sorted(box)\n",
        "    if box != sort_action:\n",
        "      print('cant clean')\n",
        "      return(False)\n",
        "    else: \n",
        "      return(True)\n",
        "\n",
        "      #find min and max \n",
        "      \n",
        "      \n",
        "def checktwo(boxes):\n",
        "  min_max_boxes = []\n",
        "  for box in boxes:   \n",
        "    min = box[0]\n",
        "    max = box[-1]\n",
        "      #print(min)\n",
        "      #print(max)\n",
        "    min_max_boxes.append((min, max))\n",
        "    counter = 0  \n",
        "  min_max_boxes.sort()\n",
        "  counter = 0 \n",
        "\n",
        "  for box in min_max_boxes: \n",
        "    if (counter < len(min_max_boxes)-1) and (box[1] > min_max_boxes[counter+1][0]): \n",
        "      return(False)\n",
        "      \n",
        "    counter +=1 \n",
        "  return(True)\n",
        "\n",
        "     \n",
        "\n",
        "if checkone(action_figures) == True and checktwo(action_figures) == True:\n",
        "  print('Yes')\n",
        "else: \n",
        "  print('No')\n",
        "\n",
        "\n",
        "\n",
        "print(checkone(action_figures)) \n",
        "print(checktwo(action_figures))"
      ],
      "metadata": {
        "colab": {
          "base_uri": "https://localhost:8080/"
        },
        "id": "-9IjYRfmLsee",
        "outputId": "a3d99dbe-28b1-4ff3-e0cc-76c7a69c4799"
      },
      "execution_count": null,
      "outputs": [
        {
          "output_type": "stream",
          "name": "stdout",
          "text": [
            "Yes\n",
            "True\n",
            "True\n"
          ]
        }
      ]
    },
    {
      "cell_type": "markdown",
      "source": [
        " # Impractical Project #37: Next Unique Number\n",
        " \n",
        "Objective: Given a year find the next unique number \n",
        "Source https://dmoj.ca/problem/ccc13s1\n",
        "\n",
        "**Pseudocode: \n",
        "1. Input the number from the user\n",
        "2. Read the number into a string \n",
        "3. Create a distinct check function to check if a digit is unique by creating a list return false else return true\n",
        "4. Create a next distinct check that will look for the next distinct number \n",
        "5. Print the next unique number. "
      ],
      "metadata": {
        "id": "uHkTSh2SZGWZ"
      }
    },
    {
      "cell_type": "code",
      "source": [
        "\n",
        "\n",
        "def distinctChecker(num):\n",
        "  x = [int(a) for a in str(num)]\n",
        "  length  = len(x)\n",
        "  #print(x)\n",
        "  for i in range(0,len(x)):\n",
        "    if x.pop() in x:\n",
        "      #print(x)\n",
        "      return(False)\n",
        "\n",
        "  return(True)\n",
        "\n",
        "  \n",
        "#print(distinctChecker(num))\n",
        "\n",
        "def nextDistinctNumber(num):\n",
        "  #print(num)\n",
        "  for i in range(num+1,10000):\n",
        "    if distinctChecker(i):\n",
        "      return(i)\n",
        "\n",
        "\n",
        "num = int(input())\n",
        "\n",
        "\n",
        "#print(x)\n",
        "\n",
        "\n",
        "print(nextDistinctNumber(num))\n",
        "\n",
        "    "
      ],
      "metadata": {
        "id": "xgtroyfEOOum",
        "colab": {
          "base_uri": "https://localhost:8080/"
        },
        "outputId": "878c9dc2-e0d7-4c11-8b98-c741a0202b57"
      },
      "execution_count": 40,
      "outputs": [
        {
          "output_type": "stream",
          "name": "stdout",
          "text": [
            "1987\n",
            "2013\n"
          ]
        }
      ]
    }
  ]
}