{
  "nbformat": 4,
  "nbformat_minor": 0,
  "metadata": {
    "colab": {
      "name": "Day 1.ipynb",
      "provenance": [],
      "authorship_tag": "ABX9TyMSBHk4+MYA0NKxOg1ImN2q",
      "include_colab_link": true
    },
    "kernelspec": {
      "name": "python3",
      "display_name": "Python 3"
    },
    "language_info": {
      "name": "python"
    }
  },
  "cells": [
    {
      "cell_type": "markdown",
      "metadata": {
        "id": "view-in-github",
        "colab_type": "text"
      },
      "source": [
        "<a href=\"https://colab.research.google.com/github/erinmr/ATLS-5519/blob/main/Day_1.ipynb\" target=\"_parent\"><img src=\"https://colab.research.google.com/assets/colab-badge.svg\" alt=\"Open In Colab\"/></a>"
      ]
    },
    {
      "cell_type": "markdown",
      "source": [
        ""
      ],
      "metadata": {
        "id": "QcGacVETDz9A"
      }
    },
    {
      "cell_type": "markdown",
      "source": [
        "Create random pairs of funny names\n",
        "\n",
        "Import [random library](https://docs.python.org/3/library/random.html)\n",
        "\n",
        "Define three lists that include a blank\n",
        "1.   honorific list = [' ', 'amazing', 'magnificent']\n",
        "2.   first \n",
        "3.   Last\n",
        "\n",
        "Generate some random numbers capped at list length \n",
        "use those numbers to pick values from the list(s)\n",
        "\n",
        "honorific variable -> set with some value from honorific\n",
        "fname variable -> set with some value from first\n",
        "lname variable -> set with some value from last\n",
        "\n",
        "Concatenate (honorific, fname, lname)\n",
        "\n",
        "print \n",
        "\n",
        "Follow [style guidelines](https://peps.python.org/pep-0008/)\n",
        "\n"
      ],
      "metadata": {
        "id": "BIh72M_U-zF2"
      }
    },
    {
      "cell_type": "code",
      "execution_count": null,
      "metadata": {
        "colab": {
          "base_uri": "https://localhost:8080/"
        },
        "id": "0CWOBO1O-wZR",
        "outputId": "b531a3d0-ad33-450a-82a2-e07182620ca0"
      },
      "outputs": [
        {
          "output_type": "stream",
          "name": "stdout",
          "text": [
            "Magnificent Erin Smith\n"
          ]
        }
      ],
      "source": [
        "import random\n",
        "\n",
        "honorific_list = ['___', 'Amazing', 'Esteemed', 'Magnificent', 'Horrid']\n",
        "fname_list = ['___', 'Hank', 'Erin', 'Blake', 'Toni']\n",
        "lname_list = ['___', 'Smith', 'Rigatoni', 'Morales', 'Robinson']\n",
        "\n",
        "random_number1 = random.randint(0,len(honorific_list)-1)\n",
        "random_number2 = random.randint(0,len(fname_list)-1)\n",
        "random_number3 = random.randint(0,len(lname_list)-1)\n",
        "\n",
        "honorific = honorific_list[random_number1]\n",
        "fname = fname_list[random_number2]\n",
        "lname = lname_list[random_number3]\n",
        "\n",
        "print(honorific + \" \" + fname + \" \" + lname)\n"
      ]
    },
    {
      "cell_type": "markdown",
      "source": [
        "Objective: Search an English language dictionary file for palindromes.\n",
        "\n",
        "1. Open link to dictionary\n",
        "2. Read first word \n",
        "break word apart into letters \n",
        "word_list = from the letters \n",
        "word_listrevers = reverse [word_list]\n",
        "\n",
        "print in reverse \n",
        "\n",
        "\n",
        "3. Assign first word to variable \n",
        "4. spell word backword and assign to variable2 \n",
        "5. Check if variable = variable2? \n",
        "6. True -> add to palindrome list -> go to next word\n",
        "7. False -> go to next word \n",
        "8. print (Palindrome list with line breaks) \n",
        "\n",
        "--- \n",
        "Class agreement on code - \n",
        "\n",
        "1. open a text file\n",
        "2. Loop over every word in the text file (for item in word list) \n",
        "strings (and lists) -- index[0] is the first element; index[-1] is the last element \n",
        "\n",
        "word is reach \n",
        "reach[0] = r\n",
        "reach[-1] = h \n",
        "reach[-5] = r \n",
        "\n",
        "For word in wordlist: \n",
        "  for 0 < i < len(word)-1:\n",
        "    if word[i] != word[len(word)-(i+1)]:\n",
        "      break\n",
        "    elif i = len(word)-1:\n",
        "      print(word)\n",
        "\n",
        "\n",
        "For 0 < i < len(word)-1: \n",
        "if i < len(word)/2\n",
        "print(word) \n",
        "\n",
        "if \n",
        "- If statement to check first and last letter? \n",
        "- If statement to check second and second to last? \n"
      ],
      "metadata": {
        "id": "JfH1GuN6GizC"
      }
    },
    {
      "cell_type": "code",
      "source": [
        "dictionaryFile=\"/content/dictionary.txt\"\n",
        "wordlist = open(dictionaryFile,\"r\")\n",
        "\n",
        "for word in wordlist:\n",
        "  word=word.strip()\n",
        "  for i in range(0, len(word)-1):\n",
        "    if word[i] != word[len(word)-(i+1)]:\n",
        "      #print(\"not a palindrome\")\n",
        "      break\n",
        "    #elif word[i] == word[len(word)-1]:\n",
        "    elif i >= ((len(word)-1)/2):\n",
        "      print(word)"
      ],
      "metadata": {
        "colab": {
          "base_uri": "https://localhost:8080/"
        },
        "id": "J7saFnoQB1R7",
        "outputId": "001b90de-0d33-423c-9a21-647d914400bd"
      },
      "execution_count": 50,
      "outputs": [
        {
          "output_type": "stream",
          "name": "stdout",
          "text": [
            "ABABA\n",
            "ABABA\n",
            "ABBA\n",
            "ADA\n",
            "ANNA\n",
            "BIB\n",
            "BOB\n",
            "BOOB\n",
            "CIVIC\n",
            "CIVIC\n",
            "DAD\n",
            "DEED\n",
            "DID\n",
            "DUD\n",
            "EKE\n",
            "ERE\n",
            "EVE\n",
            "EWE\n",
            "EYE\n",
            "GAG\n",
            "GIG\n",
            "HANNAH\n",
            "HANNAH\n",
            "HUH\n",
            "LEVEL\n",
            "LEVEL\n",
            "MADAM\n",
            "MADAM\n",
            "NAN\n",
            "NON\n",
            "NOON\n",
            "NUN\n",
            "OTTO\n",
            "PEEP\n",
            "PEP\n",
            "PIP\n",
            "POP\n",
            "PUP\n",
            "RADAR\n",
            "RADAR\n",
            "REDDER\n",
            "REDDER\n",
            "REFER\n",
            "REFER\n",
            "REVIVER\n",
            "REVIVER\n",
            "REVIVER\n",
            "ROTATOR\n",
            "ROTATOR\n",
            "ROTATOR\n",
            "ROTOR\n",
            "ROTOR\n",
            "SEES\n",
            "SEXES\n",
            "SEXES\n",
            "SOLOS\n",
            "SOLOS\n",
            "SUS\n",
            "TIT\n"
          ]
        }
      ]
    },
    {
      "cell_type": "code",
      "source": [
        ""
      ],
      "metadata": {
        "id": "jI-lnuAYPFW7"
      },
      "execution_count": null,
      "outputs": []
    }
  ]
}