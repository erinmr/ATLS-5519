{
  "nbformat": 4,
  "nbformat_minor": 0,
  "metadata": {
    "colab": {
      "name": "Day 1.ipynb",
      "provenance": [],
      "authorship_tag": "ABX9TyNV5SkDJ9anfScabpD5G4Xu",
      "include_colab_link": true
    },
    "kernelspec": {
      "name": "python3",
      "display_name": "Python 3"
    },
    "language_info": {
      "name": "python"
    }
  },
  "cells": [
    {
      "cell_type": "markdown",
      "metadata": {
        "id": "view-in-github",
        "colab_type": "text"
      },
      "source": [
        "<a href=\"https://colab.research.google.com/github/erinmr/ATLS-5519/blob/main/Day_1.ipynb\" target=\"_parent\"><img src=\"https://colab.research.google.com/assets/colab-badge.svg\" alt=\"Open In Colab\"/></a>"
      ]
    },
    {
      "cell_type": "markdown",
      "source": [
        ""
      ],
      "metadata": {
        "id": "QcGacVETDz9A"
      }
    },
    {
      "cell_type": "markdown",
      "source": [
        "Create random pairs of funny names\n",
        "\n",
        "Import [random library](https://docs.python.org/3/library/random.html)\n",
        "\n",
        "Define three lists that include a blank\n",
        "1.   honorific list = [' ', 'amazing', 'magnificent']\n",
        "2.   first \n",
        "3.   Last\n",
        "\n",
        "Generate some random numbers capped at list length \n",
        "use those numbers to pick values from the list(s)\n",
        "\n",
        "honorific variable -> set with some value from honorific\n",
        "fname variable -> set with some value from first\n",
        "lname variable -> set with some value from last\n",
        "\n",
        "Concatenate (honorific, fname, lname)\n",
        "\n",
        "print \n",
        "\n"
      ],
      "metadata": {
        "id": "BIh72M_U-zF2"
      }
    },
    {
      "cell_type": "code",
      "execution_count": 27,
      "metadata": {
        "colab": {
          "base_uri": "https://localhost:8080/"
        },
        "id": "0CWOBO1O-wZR",
        "outputId": "b531a3d0-ad33-450a-82a2-e07182620ca0"
      },
      "outputs": [
        {
          "output_type": "stream",
          "name": "stdout",
          "text": [
            "Magnificent Erin Smith\n"
          ]
        }
      ],
      "source": [
        "import random\n",
        "\n",
        "honorific_list = ['___', 'Amazing', 'Esteemed', 'Magnificent', 'Horrid']\n",
        "fname_list = ['___', 'Hank', 'Erin', 'Blake', 'Toni']\n",
        "lname_list = ['___', 'Smith', 'Rigatoni', 'Morales', 'Robinson']\n",
        "\n",
        "random_number1 = random.randint(0,len(honorific_list)-1)\n",
        "random_number2 = random.randint(0,len(fname_list)-1)\n",
        "random_number3 = random.randint(0,len(lname_list)-1)\n",
        "\n",
        "honorific = honorific_list[random_number1]\n",
        "fname = fname_list[random_number2]\n",
        "lname = lname_list[random_number3]\n",
        "\n",
        "print(honorific + \" \" + fname + \" \" + lname)\n"
      ]
    },
    {
      "cell_type": "code",
      "source": [
        ""
      ],
      "metadata": {
        "id": "J7saFnoQB1R7"
      },
      "execution_count": null,
      "outputs": []
    }
  ]
}