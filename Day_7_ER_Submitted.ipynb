{
  "nbformat": 4,
  "nbformat_minor": 0,
  "metadata": {
    "colab": {
      "name": "Day_7_ER_Submitted.ipynb",
      "provenance": [],
      "include_colab_link": true
    },
    "kernelspec": {
      "name": "python3",
      "display_name": "Python 3"
    },
    "language_info": {
      "name": "python"
    }
  },
  "cells": [
    {
      "cell_type": "markdown",
      "metadata": {
        "id": "view-in-github",
        "colab_type": "text"
      },
      "source": [
        "<a href=\"https://colab.research.google.com/github/erinmr/ATLS-5519/blob/main/Day_7_ER_Submitted.ipynb\" target=\"_parent\"><img src=\"https://colab.research.google.com/assets/colab-badge.svg\" alt=\"Open In Colab\"/></a>"
      ]
    },
    {
      "cell_type": "markdown",
      "source": [
        "# Day 7 - June 14 \n",
        "\n",
        "##IP 22 [Lifeguards Problem](http://www.usaco.org/index.php?page=viewproblem2&cpid=784) \n",
        "- Pool is open from t=0 to t=1000\n",
        "- 0<= t <= 1000 \n",
        "- Number of life guards 1 <= N <= 100. \n",
        "- line 1 = N \n",
        "- lines 2 - N+1 = time interval ts1, te1 \n",
        "- Does not need to be continuous coverage \n",
        "- Fire the life guard with the most % of overlap \n",
        "\n",
        "**Pseudocode Brainstorm:** \n",
        "1. Calculate the % overlap for all cows \n",
        "2. If row overlap \n",
        "  - put cow in the list \n",
        "3. Elif find max (% overlap): \n",
        "4. Make a class for cows \n",
        "5. Data structure for time line and number of cows \n",
        "6. Get rid of betsy from structure and then check if empty - skip elif, add 1 \n",
        "\n",
        "**Pseudocode Round 2** \n",
        "1. Input - N cows and list of lists\n",
        "2. Map cows to time points \n",
        "3. Calculate % for each overlap \n",
        "  - For each cow: \n",
        "  - Cow class:\n",
        "    - ts - 3 \n",
        "    - te - 7\n",
        "    - %o - 1- (len of change interval/(te-ts))\n",
        "    - interval is a list [3, 4, 5, 6] \n",
        "    - change interval [4] \n",
        "  \n"
      ],
      "metadata": {
        "id": "93xlBj9s6hN1"
      }
    },
    {
      "cell_type": "markdown",
      "source": [
        "**Final Pseudocode:** \n",
        "1. Input number of lifeguards (n)\n",
        "2. Input start time and end time for each lifeguard (lifeguards)\n",
        "3. Establish a 0 filled array with N rows and total time columns \n",
        "4. Each row is a cow\n",
        "  - Fill in 1s for each shift \n",
        "5. Use numpy delete row to delete the first row\n",
        "6. Numpy sum, axis = 0 will sum all columns\n",
        "7. Numpy count non-zero will count all values that aren't 0 giving us the number of shifts covered\n",
        "9. Set this initial non-zero count to max \n",
        "8. In a for loop repeat items 5-8 \n",
        "9. Compare current non-zero count to max. \n",
        "10. If current greater than max, set max = current \n",
        "11. After looping through all options, Print max shifts covered \n",
        "\n"
      ],
      "metadata": {
        "id": "IUFN2h-KQsO_"
      }
    },
    {
      "cell_type": "code",
      "source": [
        "import numpy as np\n",
        "\n",
        "N = 3 # number of cows\n",
        "total_time = 10 # max time length that a shift could span \n",
        "shifts = [[5,9],[1,4],[3,7]] #[[134, 203], [186,288], [274,308], [46,138], [373, 451]] # # specified cow shifts\n",
        "max_shift=0 # intialize max shift length to 0 so that something will always \n",
        "total_shift = 0 \n",
        "\n",
        "#initialize array with a line for each cow \n",
        "j=np.zeros((N, total_time)) # more elegant way to inialize the array than creating it by hand \n",
        "j = j.astype(int)\n",
        "\n",
        "#j=np.array([[0,0,0,0,0,0,0,0,0,0],[0,0,0,0,0,0,0,0,0,0],[0,0,0,0,0,0,0,0,0,0]]) #array for all \n",
        "\n",
        "i=0\n",
        "t=0\n",
        "\n",
        "for i,s in enumerate(shifts): # building j numpy array \n",
        "  #print(i,s)\n",
        "  for t in range(s[0],s[1]): \n",
        "    #print(type(t))\n",
        "    j[i][t] = 1               #with 1's in spaces from start to end time for each cow row\n",
        "    #print(j[i][t])\n",
        "\n",
        "print(j)\n",
        "\n",
        "#Establish first row delete outside. Test for comparing two arrays \n",
        "j_del = np.delete(j,0,0) #delete first row\n",
        "j_del_sum = np.sum(j_del,0) #Sum all columns \n",
        "#print(j_del_sum)\n",
        "j_del_nonzero = np.count_nonzero(j_del_sum) # count all non-zeros to find the number of shifts covered. \n",
        "\n",
        "max_nonzero_shifts = j_del_nonzero #Set max to initial \n",
        "\n",
        "for k in range(1,N):\n",
        "  j_del2 = np.delete(j,k,0) #delete 2nd to Nth row\n",
        "  j_del2_sum = np.sum(j_del2,0) #sum the columns \n",
        "  #print(j_del2_sum)\n",
        "  j_del2_nonzero = np.count_nonzero(j_del2_sum) #count non-zeros to find number of shifts\n",
        "  #print(j_del2_nonzero)\n",
        "\n",
        "  if j_del2_nonzero > max_nonzero_shifts: #compare current shifts to max and if greater set greater equal to current \n",
        "    max_nonzero_shifts = j_del2_nonzero\n",
        "    print('True', max_nonzero_shifts,j_del2_sum)\n",
        "\n"
      ],
      "metadata": {
        "colab": {
          "base_uri": "https://localhost:8080/"
        },
        "id": "LuR33gL1NgnU",
        "outputId": "e9a22658-0edd-46fb-9754-ea4b47749e1d"
      },
      "execution_count": 24,
      "outputs": [
        {
          "output_type": "stream",
          "name": "stdout",
          "text": [
            "[[0 0 0 0 0 1 1 1 1 0]\n",
            " [0 1 1 1 0 0 0 0 0 0]\n",
            " [0 0 0 1 1 1 1 0 0 0]]\n",
            "True 7 [0 1 1 1 0 1 1 1 1 0]\n"
          ]
        }
      ]
    },
    {
      "cell_type": "markdown",
      "source": [
        "\n",
        "# Impractical Project #23: Ski Course Design\n",
        "\n",
        "Objective: See http://www.usaco.org/index.php?page=viewproblem2&cpid=376 \n",
        "\n",
        "\n",
        "Check all ranges to 17 (1-18, , 2-19, 3-20, 4-21, 5-22)\n",
        "\n",
        "**Pseudocode**\n",
        "1. Read in hills height \n",
        "2. Sort hill height\n",
        "3. set min_hill_interval = 0 (not sure if this could be hills[0]? \n",
        "4. Set max_hill_interval = hills[-1]-17, this is the tallest hill in the set and - 17 gives us our bottom part of the range. \n",
        "5. First for loop will create ranges with i to i+17 with the min and max hill interval: \n",
        "  - iterate over all the hills and calculate the cost \n",
        "  - if the hill is in the range, it's cost will be 0 \n",
        "  - if hill is less than i then hill cost is (i-hill)^2\n",
        "  - if hill is greater than i then hill cost is (hill-(i+17))^2\n",
        "  - sum the hill_cost for this interval \n",
        "  - compare the hill_cost to min_cost; if hill_cost < min_cost, then set min_cost = hill_cost "
      ],
      "metadata": {
        "id": "6We-A5jsTmjp"
      }
    },
    {
      "cell_type": "code",
      "source": [
        "hills = [50,50,84,22,44,38,0,46,66,22,73,25,92,5,56,13,73,48,32,42,91,3,100,97,8,27,34,73,58,42,80,53,59,55,52,3,30,84,100,31,80,79,11,70,55,64,92,29,77,71,72] #[20, 4, 1, 24, 21] \n",
        "hills.sort()\n",
        "min_hill_interval = 0 #;hills[0]\n",
        "total_cost = 0\n",
        "hill_cost = 0\n",
        "max_hill_interval = hills[-1]-17 # tallest hill - 17 gives the lower bound of the iterations to go through. \n",
        "min_cost = 999999 # set min cost to much higher than needed\n",
        "\n",
        "# print(max_hill_interval)\n",
        "\n",
        "\n",
        "for i in range(min_hill_interval, max_hill_interval+1): #create intervals \n",
        "  #print(f'i is {i}')\n",
        "  total_cost = 0\n",
        "  for hill in hills: # Iterate over all hills for each interval \n",
        "    if hill in range(i, i+17):\n",
        "      hill_cost = 0\n",
        "      #print(f'hill_cost for in range: {hill_cost}')\n",
        "    elif hill < i: \n",
        "      hill_cost = (i-hill)*(i-hill)\n",
        "      #print(f'hill_cost for less than range: {hill_cost}')\n",
        "    elif hill > i: \n",
        "      hill_cost = (hill-(i+17))*(hill-(i+17))\n",
        "      #print(f'hill_cost for greater than range: {hill_cost}')\n",
        "    \n",
        "    total_cost += hill_cost # sum the total cost\n",
        "    \n",
        "  if total_cost < min_cost: #compare the cost   \n",
        "    min_cost = total_cost  # if total less than min, min = total\n",
        "  \n",
        "\n",
        "print(min_cost) #print min cost \n"
      ],
      "metadata": {
        "colab": {
          "base_uri": "https://localhost:8080/"
        },
        "id": "-a2M3ECNlz4w",
        "outputId": "64fe215e-5091-4d99-f0b2-6fcd4c8ce3f8"
      },
      "execution_count": 39,
      "outputs": [
        {
          "output_type": "stream",
          "name": "stdout",
          "text": [
            "22946\n"
          ]
        }
      ]
    },
    {
      "cell_type": "code",
      "source": [
        ""
      ],
      "metadata": {
        "id": "309yK6i3tJCx"
      },
      "execution_count": null,
      "outputs": []
    }
  ]
}