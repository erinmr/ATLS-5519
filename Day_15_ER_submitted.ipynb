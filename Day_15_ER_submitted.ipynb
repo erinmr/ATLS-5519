{
  "nbformat": 4,
  "nbformat_minor": 0,
  "metadata": {
    "colab": {
      "name": "Day 15_ER_submitted.ipynb",
      "provenance": [],
      "authorship_tag": "ABX9TyOoygCDEJ7gB9guPN4DH0Ax",
      "include_colab_link": true
    },
    "kernelspec": {
      "name": "python3",
      "display_name": "Python 3"
    },
    "language_info": {
      "name": "python"
    }
  },
  "cells": [
    {
      "cell_type": "markdown",
      "metadata": {
        "id": "view-in-github",
        "colab_type": "text"
      },
      "source": [
        "<a href=\"https://colab.research.google.com/github/erinmr/ATLS-5519/blob/main/Day_15_ER_submitted.ipynb\" target=\"_parent\"><img src=\"https://colab.research.google.com/assets/colab-badge.svg\" alt=\"Open In Colab\"/></a>"
      ]
    },
    {
      "cell_type": "markdown",
      "source": [
        "#Day 15 - June 30, 2022\n",
        "\n",
        "## Impractical Project #39b: Revegetation (Ignore)\n",
        "\n",
        "Source: http://www.usaco.org/index.php?page=viewproblem2&cpid=920\n",
        "\n",
        "**Pseudocode** \n",
        "1. Bring in code from Reveg Bronze \n",
        "2. Add the Single/Double check \n",
        "2. Determine total solutions\n",
        "3. Count total solutions "
      ],
      "metadata": {
        "id": "qJ0VqG6ASTdW"
      }
    },
    {
      "cell_type": "code",
      "execution_count": null,
      "metadata": {
        "colab": {
          "base_uri": "https://localhost:8080/"
        },
        "id": "UItP6Fj5SIBW",
        "outputId": "ceb33a9b-c475-4396-e4c0-f5a8e6217db6"
      },
      "outputs": [
        {
          "output_type": "stream",
          "name": "stdout",
          "text": [
            "1\n",
            "S\n",
            "D\n",
            "{1: 1, 2: 2, 3: 1}\n"
          ]
        }
      ],
      "source": [
        "cows = [['S', 1,2],['D',3,2]] # ,[4,3],[2,5],[1,2],[1,5]]\n",
        "fields = {1:1, 2:1, 3:1}\n",
        "\n",
        "print(fields[2])\n",
        "\n",
        "for cow in cows: \n",
        "  if cow[0]=='S': \n",
        "    fields[cow[1]] = fields[cow[2]]\n",
        "    print('S')\n",
        "  if cow[0] == 'D': \n",
        "    fields[cow[1]]!= fields[cow[2]]\n",
        "    fields[cow[2]] = 2\n",
        "    print('D')\n",
        "\n",
        "print(fields)"
      ]
    },
    {
      "cell_type": "code",
      "source": [
        "class graph:\n",
        "   def __init__(self,gdict=None):\n",
        "      if gdict is None:\n",
        "         gdict = {}\n",
        "      self.gdict = gdict\n",
        "   def getVertices(self):\n",
        "      return list(self.gdict.keys())\n",
        "# Add the vertex as a key\n",
        "   def addVertex(self, vrtx):\n",
        "      if vrtx not in self.gdict:\n",
        "         self.gdict[vrtx] = []\n",
        "# Create the dictionary with graph elements\n",
        "graph_elements = { \n",
        "   \"a\" : [\"b\",\"c\"],\n",
        "   \"b\" : [\"a\", \"d\"],\n",
        "   \"c\" : [\"a\", \"d\"],\n",
        "   \"d\" : [\"e\"],\n",
        "   \"e\" : [\"d\"]\n",
        "}\n",
        "g = graph(graph_elements)\n",
        "g.addVertex(\"f\")\n",
        "print(g.getVertices())"
      ],
      "metadata": {
        "colab": {
          "base_uri": "https://localhost:8080/"
        },
        "id": "4by_ceNScjmV",
        "outputId": "ef216297-8654-4068-dfeb-4f27f44ec87b"
      },
      "execution_count": null,
      "outputs": [
        {
          "output_type": "stream",
          "name": "stdout",
          "text": [
            "['a', 'b', 'c', 'd', 'e', 'f']\n"
          ]
        }
      ]
    },
    {
      "cell_type": "code",
      "source": [
        "class graph:\n",
        "   def __init__(self,gdict=None):\n",
        "      if gdict is None:\n",
        "         gdict = {}\n",
        "      self.gdict = gdict\n",
        "\n",
        "   def edges(self):\n",
        "      return self.findedges()\n",
        "# Find the distinct list of edges\n",
        "   def findedges(self):\n",
        "      edgename = []\n",
        "      for vrtx in self.gdict:\n",
        "         for nxtvrtx in self.gdict[vrtx]:\n",
        "            if {nxtvrtx, vrtx} not in edgename:\n",
        "               edgename.append({vrtx, nxtvrtx})\n",
        "      return edgename\n",
        "# Create the dictionary with graph elements\n",
        "pastuere_graph_elements = { \n",
        "   \"cow a\" : [\"1\",\"2\"],\n",
        "   \"cow b\" : [\"3\", \"2\"],\n",
        "  \n",
        "}\n",
        "g = graph(pastuere_graph_elements)\n",
        "print(g.edges())\n",
        "\n",
        "diet_graph_elements = { \n",
        "   \"cow a\" : [\"S\"],\n",
        "   \"cow b\" : [\"D\"],\n",
        "  \n",
        "}\n",
        "\n",
        "d = graph(diet_graph_elements)\n",
        "print(d.edges())\n",
        "\n"
      ],
      "metadata": {
        "colab": {
          "base_uri": "https://localhost:8080/"
        },
        "id": "xYNz2QEefaPM",
        "outputId": "6a12a7e4-8af3-47c9-b26e-f18b551b56e0"
      },
      "execution_count": null,
      "outputs": [
        {
          "output_type": "stream",
          "name": "stdout",
          "text": [
            "[{'1', 'cow a'}, {'cow a', '2'}, {'3', 'cow b'}, {'2', 'cow b'}]\n",
            "[{'cow a', 'S'}, {'D', 'cow b'}]\n"
          ]
        }
      ]
    },
    {
      "cell_type": "markdown",
      "source": [
        "# Impractical Project #40a: Painting the Barn\n",
        "\n",
        "Source: http://www.usaco.org/index.php?page=viewproblem2&cpid=919 \n",
        "\n",
        "**Pseudocode:**\n",
        "1. Create arrays of [1,1,5,5], [4,4,7,6], [3, 3, 8, 7]\n",
        "2. Stack arrays on top of each other and find overlap and count +=1 \n",
        "3. count all things that have value of 2\n"
      ],
      "metadata": {
        "id": "ukEIh5y3jYVf"
      }
    },
    {
      "cell_type": "code",
      "source": [
        "from collections import Counter\n",
        "\n",
        "wall = []\n",
        "\n",
        "max_x=0\n",
        "max_y=0\n",
        "\n",
        "rectangles = [[1,1,5,5],[4,4,7,6],[3,3,8,7]] #[x1,y1,x2,y2] x1,y1 is bottom left and x2, y2 is top right (always bigger) \n",
        "\n",
        "\n",
        "for rectangle in rectangles: \n",
        "  if rectangle[2] > max_x:\n",
        "    max_x = rectangle[2]\n",
        "\n",
        "  if rectangle[3] > max_y:\n",
        "    max_y = rectangle[3]\n",
        "\n",
        "\n",
        "#wall = [[0]*max_y]*max_x\n",
        "\n",
        "for i in range(max_x):\n",
        "  wall.append([0]*max_y)\n",
        "\n",
        "for rectangle in rectangles:\n",
        "  x_value = rectangle[0]\n",
        "  y_value = rectangle[1]\n",
        "  final_x = rectangle[2]\n",
        "  final_y = rectangle[3] \n",
        "\n",
        "  for i in range(rectangle[0],rectangle[2]): \n",
        "    for j in range(rectangle[1],rectangle[3]):\n",
        "      wall[i][j] += 1 \n",
        "    \n",
        "k_counter = 0 \n",
        "k = 2\n",
        "for i in range(len(wall)):\n",
        "  for j in range(len(wall[i])):\n",
        "    if wall[i][j] == k:\n",
        "      k_counter += 1\n",
        "\n",
        "print(k_counter)"
      ],
      "metadata": {
        "id": "ZkmGaqXefpnK",
        "colab": {
          "base_uri": "https://localhost:8080/"
        },
        "outputId": "a7d401fa-a5d2-43bb-d88e-84b988c0d56d"
      },
      "execution_count": null,
      "outputs": [
        {
          "output_type": "stream",
          "name": "stdout",
          "text": [
            "8\n"
          ]
        }
      ]
    },
    {
      "cell_type": "markdown",
      "source": [
        "# Impractical Project #40b: Painting the Barn - GOLD\n",
        "\n"
      ],
      "metadata": {
        "id": "pigDoEr6q7z4"
      }
    },
    {
      "cell_type": "code",
      "source": [
        "from collections import Counter\n",
        "\n",
        "wall = []\n",
        "\n",
        "max_x=0\n",
        "max_y=0\n",
        "\n",
        "rectangles = [[1,1,4,4],[3,3,7,6],[2,2,8,7]] #[x1,y1,x2,y2] x1,y1 is bottom left and x2, y2 is top right (always bigger) \n",
        "\n",
        "\n",
        "for rectangle in rectangles: \n",
        "  if rectangle[2] > max_x:\n",
        "    max_x = rectangle[2]\n",
        "\n",
        "  if rectangle[3] > max_y:\n",
        "    max_y = rectangle[3]\n",
        "\n",
        "\n",
        "#wall = [[0]*max_y]*max_x\n",
        "\n",
        "for i in range(max_x):\n",
        "  wall.append([0]*max_y)\n",
        "\n",
        "for rectangle in rectangles:\n",
        "  x_value = rectangle[0]\n",
        "  y_value = rectangle[1]\n",
        "  final_x = rectangle[2]\n",
        "  final_y = rectangle[3] \n",
        "\n",
        "  for i in range(rectangle[0],rectangle[2]): \n",
        "    for j in range(rectangle[1],rectangle[3]):\n",
        "      wall[i][j] += 1 \n",
        "    \n",
        "k_counter = 0 \n",
        "change_counter = 0\n",
        "k = 2\n",
        "\n",
        "for i in range(len(wall)):\n",
        "  for j in range(len(wall[i])):\n",
        "    if wall[i][j] == k:\n",
        "      k_counter += 1\n",
        "\n",
        "for i in range(len(wall)):\n",
        "  for j in range(len(wall[i])):\n",
        "    if wall[i][j] == k:\n",
        "      change_counter -=1\n",
        "    elif wall[i][j] == k-1:\n",
        "      change_counter += 1\n",
        "    else:\n",
        "      continue\n",
        "\n",
        "\n",
        "\n",
        "print(change_counter, k_counter)"
      ],
      "metadata": {
        "colab": {
          "base_uri": "https://localhost:8080/"
        },
        "id": "uz-2nx9HnFTU",
        "outputId": "a7e29b69-d288-47ad-bc4c-4b4bad6c2912"
      },
      "execution_count": null,
      "outputs": [
        {
          "output_type": "stream",
          "name": "stdout",
          "text": [
            "6 14\n"
          ]
        }
      ]
    },
    {
      "cell_type": "code",
      "source": [
        ""
      ],
      "metadata": {
        "id": "Dvf-PsxkrhKP"
      },
      "execution_count": null,
      "outputs": []
    }
  ]
}