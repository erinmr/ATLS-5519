{
  "nbformat": 4,
  "nbformat_minor": 0,
  "metadata": {
    "colab": {
      "name": "Day2_Submitted_ER.ipynb",
      "provenance": [],
      "authorship_tag": "ABX9TyN6QCnrca9KjCkkbbYHmStX",
      "include_colab_link": true
    },
    "kernelspec": {
      "name": "python3",
      "display_name": "Python 3"
    },
    "language_info": {
      "name": "python"
    }
  },
  "cells": [
    {
      "cell_type": "markdown",
      "metadata": {
        "id": "view-in-github",
        "colab_type": "text"
      },
      "source": [
        "<a href=\"https://colab.research.google.com/github/erinmr/ATLS-5519/blob/main/Day2_Submitted_ER.ipynb\" target=\"_parent\"><img src=\"https://colab.research.google.com/assets/colab-badge.svg\" alt=\"Open In Colab\"/></a>"
      ]
    },
    {
      "cell_type": "markdown",
      "source": [
        "# IMPRACTICAL PROGRAM #4: ANAGRAMS\n",
        "\n",
        "Objective: Use python and a dictionary file to find all single-word anagrams for a given english word. \n",
        "\n",
        "Assumptions - no filtering for input word, if input word is valid (anagram with itself); valid words are words in the dictionary \n",
        "\n",
        "Initial Pseudo code\n",
        "1. Open dictionary \n",
        "2. Read in dictionary? (parse) \n",
        "2. Create an anagram function\n",
        "3. for input word create all the different combinations of the word (car, cra, rac, rca, acr, arc, rack - car and arc)\n",
        "4. Store those in a list\n",
        "5. Check the words are valid \n",
        "6. If valid print\n",
        "7. If not valid break\n",
        "8. Call function with user word  \n",
        "\n",
        "Brian Pseudo code\n",
        "1. Parse dictionary and iterate over each word.\n",
        "2. For each word create a hash key that is 26 characters long and each character is the number of each letter of the alphabet.\n",
        "3. Store word in a dictionary where the key is the counts of letters, and the values are all the words that have the same counts of letters.\n",
        "4. Take user input for word.\n",
        "5. Create hash key for input word.\n",
        "6. Return results for that hash key\n"
      ],
      "metadata": {
        "id": "mVOlm-BW-dtm"
      }
    },
    {
      "cell_type": "code",
      "execution_count": 16,
      "metadata": {
        "colab": {
          "base_uri": "https://localhost:8080/"
        },
        "id": "DlhToEsP7V9y",
        "outputId": "c24be747-f61f-4eaa-ff17-e1e46322ead7"
      },
      "outputs": [
        {
          "output_type": "stream",
          "name": "stdout",
          "text": [
            "Enter word: Lord\n",
            "['lord']\n"
          ]
        }
      ],
      "source": [
        "words = open(\"/content/2of4brif.txt\", 'r')\n",
        "#words = f.readlines()\n",
        "\n",
        "def createHashKey(word): \n",
        "  letters = ['a','b','c','d','e','f','g','h','i','j','k','l','m','n','o','p','q','r','s','t','u','v','w','x','y','z']\n",
        "  counts = [0]*26\n",
        "  \n",
        "  for l in word: \n",
        "    counts[letters.index(l)] +=1\n",
        "    #print(counts)\n",
        "  \n",
        "  counts_string = \"\".join(str(e) for e in counts)\n",
        "  return counts_string\n",
        "\n",
        "#print(createHashKey('car'))\n",
        "\n",
        "anagram_dict = {}\n",
        "\n",
        "for word in words: \n",
        "  word = word.strip()\n",
        "  wkey = createHashKey(word)\n",
        "  if wkey in anagram_dict.keys(): \n",
        "    anagram_dict[wkey].append(word)\n",
        "  else: \n",
        "    anagram_dict[wkey]=[word]\n",
        "\n",
        "val = input(\"Enter word: \")\n",
        "val =val.lower()\n",
        "vkey = createHashKey(val)\n",
        "print(anagram_dict[vkey]) \n",
        "\n",
        "\n"
      ]
    },
    {
      "cell_type": "markdown",
      "source": [
        "# IMPRACTICAL PROGRAM #5: PHASE ANAGRAMS (Initial Experiments)\n",
        "\n",
        "Functions: \n",
        "\n",
        "1. load everything take input find anagram based on input \n",
        "- Take input \n",
        "- Return anagram phrases \n",
        "- NOTE: anagram can be a phrase \n",
        "2. Based on what user does - check what user inputs validity \n",
        "3. Main runs everything \n",
        "\n",
        "\n"
      ],
      "metadata": {
        "id": "lMfHxAKrOsCi"
      }
    },
    {
      "cell_type": "markdown",
      "source": [
        "Restart - back to interactive \n",
        "- a\n",
        "- An\n",
        "- ANT -> TAN, NAT, TNA \n",
        "\n",
        "IP #5: Phrase Anagrams \n",
        "Pseudocode \n",
        "- Take input from user\n",
        "- load a dictionary as set \n",
        "- import itertools (permutations) \n",
        "\n",
        "- run all permutaitons of the input \n",
        "- Check full \n",
        "Assumption - phrase must have a space \n",
        "\n",
        "Permutations in line 5 "
      ],
      "metadata": {
        "id": "lksoAKyVSEeX"
      }
    },
    {
      "cell_type": "code",
      "source": [
        "from itertools import combinations\n",
        "word = 'volde'\n",
        "perms = []\n",
        "for i in range(1,len(word)):\n",
        "  permCount = [''.join(i) for i in combinations(word,i)]\n",
        "  perms.append(permCount)\n",
        "print(len(perms))\n",
        "print(perms)"
      ],
      "metadata": {
        "colab": {
          "base_uri": "https://localhost:8080/"
        },
        "id": "Pg3bqtv7TIW3",
        "outputId": "486a0591-8eae-4a92-ab47-3e491b210c6c"
      },
      "execution_count": null,
      "outputs": [
        {
          "output_type": "stream",
          "name": "stdout",
          "text": [
            "4\n",
            "[['v', 'o', 'l', 'd', 'e'], ['vo', 'vl', 'vd', 've', 'ol', 'od', 'oe', 'ld', 'le', 'de'], ['vol', 'vod', 'voe', 'vld', 'vle', 'vde', 'old', 'ole', 'ode', 'lde'], ['vold', 'vole', 'vode', 'vlde', 'olde']]\n"
          ]
        }
      ]
    },
    {
      "cell_type": "code",
      "source": [
        "from collections import Counter\n",
        "\n",
        "name = \"foster\"\n",
        "word = \"forest\"\n",
        "\n",
        "name_count = Counter(name)\n",
        "print(name_count)\n",
        "\n",
        "word_count = Counter(word)\n",
        "print(word_count)"
      ],
      "metadata": {
        "colab": {
          "base_uri": "https://localhost:8080/"
        },
        "id": "GMZUc8nSTV6W",
        "outputId": "bc9a73ee-7071-4eb7-a89f-bf8f492f4b4b"
      },
      "execution_count": null,
      "outputs": [
        {
          "output_type": "stream",
          "name": "stdout",
          "text": [
            "Counter({'f': 1, 'o': 1, 's': 1, 't': 1, 'e': 1, 'r': 1})\n",
            "Counter({'f': 1, 'o': 1, 'r': 1, 'e': 1, 's': 1, 't': 1})\n"
          ]
        }
      ]
    },
    {
      "cell_type": "markdown",
      "source": [
        "# IMPRACTICAL PROGRAM #5: PHRASE ANAGRAMS (Homework) \n",
        "\n",
        "OBJECTIVE: Write a Python program that lets a user build an anagram phrase from the letters in their name.\n",
        "\n",
        "Reworked Object: find all the possible anagrams for all the letter combinations \n"
      ],
      "metadata": {
        "id": "x86plrTvc52H"
      }
    },
    {
      "cell_type": "code",
      "source": [
        "from itertools import permutations\n",
        "userInput = 'volde'\n",
        "perms = []\n",
        "\n",
        "# make all possible permutations \n",
        "for i in range(1,len(userInput)+1):\n",
        "  permCount = [''.join(i) for i in permutations(userInput,i)]\n",
        "  perms.extend(permCount)\n",
        "print(len(perms))\n",
        "#print(perms)\n",
        "\n",
        "#check perms against dictionary to see if they are words and save to new list X\n",
        "f = open(\"/content/2of4brif.txt\", 'r')\n",
        "wordlist = f.readlines()\n",
        "print(len(wordlist))\n",
        "\n",
        "permwords = []\n",
        " \n",
        "for permutation in perms: \n",
        "\n",
        "  for word in wordlist:\n",
        "    word = word.strip()\n",
        "    \n",
        "    if permutation == word:\n",
        "      permwords.append(permutation)\n",
        "\n",
        "\n",
        "print(permwords)\n",
        "\n",
        "\n",
        "\n",
        "\n",
        "#2 for loops - cycle through x combine each word with the other word\n",
        "#if userList == dictionaryList:\n",
        " # outList.append(word)\n",
        "## letter frequency analysis: if two wrods combined matches the original, save to y  \n",
        "# y is our answer\n",
        "#y = []\n",
        "#print(y)"
      ],
      "metadata": {
        "id": "Ngc4909ZYLEQ",
        "colab": {
          "base_uri": "https://localhost:8080/"
        },
        "outputId": "16617d48-ec11-47a7-d41a-999ac3d8b36c"
      },
      "execution_count": 7,
      "outputs": [
        {
          "output_type": "stream",
          "name": "stdout",
          "text": [
            "325\n",
            "60388\n",
            "['lo', 'do', 'old', 'ole', 'ode', 'led', 'doe', 'vole', 'veld', 'olde', 'love', 'lode', 'dove', 'dole', 'loved']\n"
          ]
        }
      ]
    },
    {
      "cell_type": "markdown",
      "source": [
        "# HW IP 6 - find Volde from odlve\n",
        "\n",
        "**Pseudocode**\n",
        "Using the code from IP5 and simplifying it. \n",
        "1. User input is 'odlve' \n",
        "2. Set word to 'volde' instead of the dictionary of words \n",
        "3. Only look for permutations  of the full word \n",
        "4. For all permutations found look through the list and find any that match 'volde' \n",
        "5. Print I found the word! volde  "
      ],
      "metadata": {
        "id": "QSorSZ74fQVh"
      }
    },
    {
      "cell_type": "code",
      "source": [
        "from itertools import permutations\n",
        "userInput = 'odlve'\n",
        "perms = []\n",
        "\n",
        "# make all possible permutations \n",
        "for i in range(len(userInput),len(userInput)+1):\n",
        "  permCount = [''.join(i) for i in permutations(userInput,i)]\n",
        "  perms.extend(permCount)\n",
        "#print(len(perms))\n",
        "#print(perms)\n",
        "\n",
        "#check perms against dictionary to see if they are words and save to new list X\n",
        "#f = open(\"/content/2of4brif.txt\", 'r')\n",
        "\n",
        "word = 'volde' #word to match \n",
        "\n",
        "permwords = []\n",
        " \n",
        "for permutation in perms: \n",
        "  if permutation == word:\n",
        "    permwords.append(permutation)\n",
        "\n",
        "print(f'I found the word! {permwords[0]}')\n"
      ],
      "metadata": {
        "colab": {
          "base_uri": "https://localhost:8080/"
        },
        "id": "mXMtTa7tfEy4",
        "outputId": "6731919e-13a8-4229-84c7-a039011a83eb"
      },
      "execution_count": 30,
      "outputs": [
        {
          "output_type": "stream",
          "name": "stdout",
          "text": [
            "I found the word! volde\n"
          ]
        }
      ]
    },
    {
      "cell_type": "code",
      "source": [
        ""
      ],
      "metadata": {
        "id": "yBshO3AnfanW"
      },
      "execution_count": null,
      "outputs": []
    }
  ]
}
