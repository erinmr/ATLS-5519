{
  "nbformat": 4,
  "nbformat_minor": 0,
  "metadata": {
    "colab": {
      "name": "Day_8_ER_Submitted.ipynb",
      "provenance": [],
      "include_colab_link": true
    },
    "kernelspec": {
      "name": "python3",
      "display_name": "Python 3"
    },
    "language_info": {
      "name": "python"
    }
  },
  "cells": [
    {
      "cell_type": "markdown",
      "metadata": {
        "id": "view-in-github",
        "colab_type": "text"
      },
      "source": [
        "<a href=\"https://colab.research.google.com/github/erinmr/ATLS-5519/blob/main/Day_8_ER_Submitted.ipynb\" target=\"_parent\"><img src=\"https://colab.research.google.com/assets/colab-badge.svg\" alt=\"Open In Colab\"/></a>"
      ]
    },
    {
      "cell_type": "markdown",
      "source": [
        "#Day 8 \n",
        "\n",
        "## IMPRACTICAL PROGRAM #25: CASINO\n",
        "Objective: https://dmoj.ca/problem/ccc00s1 \n",
        "\n",
        "Martha takes a jar of quarters to the casino with the intention of becoming rich. She plays three machines in turn. Unknown to her, the machines are entirely predictable. Each play costs one quarter. The first machine pays  quarters every  time it is played; the second machine pays  quarters every  time it is played; the third pays  quarters every  time it is played.\n",
        "\n",
        "\n",
        "**Pseudocode:** \n",
        "1. input number of quarters and initial states of each machine [48\n",
        "3 - machine 1\n",
        "10 - machine 2\n",
        "4] - machine 3 \n",
        "\n",
        "2. while quarters > 0  \n",
        "  quarters - 1 \n",
        "  round +=1 \n",
        "  if round divisble by 2 \n",
        "    machine2 += 1\n",
        "    if machine2 divisible by 100 (use modulo)  \n",
        "    quarters = quarters + 60 \n",
        "  if round divisible by 3 \n",
        "    machine3 += 1\n",
        "    if machine 3 divisible by 10 \n",
        "    quarters = quarters + 9   \n",
        "  elif \n",
        "    machine1 +=1 \n",
        "    if machine1 divisible by 35 \n",
        "    quarters = quarters + 35 \n",
        "\n",
        "Print (f' number of rounds to go broke {rounds}') \n",
        "\n",
        "\n",
        "\n",
        "\n",
        "\n",
        "   \n",
        "\n"
      ],
      "metadata": {
        "id": "LLL-cmW5EkpV"
      }
    },
    {
      "cell_type": "code",
      "execution_count": null,
      "metadata": {
        "colab": {
          "base_uri": "https://localhost:8080/"
        },
        "id": "G2hsjnlYEgRE",
        "outputId": "90aa4a47-b025-4eb0-b62a-caaa46172ee5"
      },
      "outputs": [
        {
          "output_type": "stream",
          "name": "stdout",
          "text": [
            "387 9\n"
          ]
        }
      ],
      "source": [
        "number_of_coins = 128\n",
        "machine_1 = 3\n",
        "machine_2 = 10\n",
        "machine_3 = 4\n",
        "\n",
        "final_count = 0 \n",
        "\n",
        "round = 1 \n",
        "\n",
        "def machine1(quarters, plays):\n",
        "  quarters -= 1\n",
        "  plays +=1\n",
        "  if plays == 35: \n",
        "    plays = 0\n",
        "    quarters +=30\n",
        "  return quarters, plays\n",
        "\n",
        "def machine2(quarters, plays):\n",
        "  quarters -= 1\n",
        "  plays +=1\n",
        "  if plays == 60: \n",
        "    plays = 0\n",
        "    quarters +=30\n",
        "  return quarters, plays\n",
        "\n",
        "def machine3(quarters, plays):\n",
        "  quarters -= 1\n",
        "  plays +=1\n",
        "  if plays == 9: \n",
        "    plays = 0\n",
        "    quarters +=30\n",
        "  return quarters, plays\n",
        "\n",
        "\n",
        "while number_of_coins > 0:\n",
        "\n",
        "  if round == 1: \n",
        "    round +=1\n",
        "    machine_1 += 1 \n",
        "    number_of_coins -= 1\n",
        "    final_count +=1\n",
        "    #print(\"machine 1 runs\")\n",
        "    if machine_1 % 35 == 0: \n",
        "      number_of_coins += 30 \n",
        "   \n",
        "  elif round == 2: \n",
        "    round +=1\n",
        "    machine_2 += 1 \n",
        "    number_of_coins -= 1\n",
        "    final_count +=1\n",
        "    #print(\"machine 2 runs\")\n",
        "    if machine_2 % 100 == 0: \n",
        "      number_of_coins += 60\n",
        "\n",
        "  if round == 3: \n",
        "    round = 1 \n",
        "    machine_3 += 1 \n",
        "    number_of_coins -= 1\n",
        "    #print(\"machine 3 runs\")\n",
        "    final_count +=1\n",
        "    \n",
        "    if machine_3 % 10 == 0 and machine_3 % 100 !=0: \n",
        "      number_of_coins += 9  \n",
        "\n",
        "play_time = 7\n",
        "total_time = play_time*final_count \n",
        "total_mins = total_time//60\n",
        "drinks = total_mins//5\n",
        "\n",
        "print(final_count, drinks)\n"
      ]
    },
    {
      "cell_type": "code",
      "source": [
        "# code to make the above functions \n",
        "    number_of_coins, machine_1 = machine1(number_of_coins, machine_1)\n",
        "    final_count +=1\n",
        "    round += 1\n",
        "  if round == 2: \n",
        "    number_of_coins, machine_2 = machine2(number_of_coins, machine_2)\n",
        "    final_count +=1\n",
        "    round +=1\n",
        "  if round == 3: \n",
        "    number_of_coins, machine_3 = machine3(number_of_coins, machine_3)\n",
        "    final_count +=1\n",
        "    print(final_count)\n",
        "    round = 0\n",
        "  if number_of_coins == 0: \n",
        "    break\n"
      ],
      "metadata": {
        "id": "NAfl3xnJISY_"
      },
      "execution_count": null,
      "outputs": []
    },
    {
      "cell_type": "markdown",
      "source": [
        "# IMPRACTICAL PROGRAM #26: SCARFS\n",
        "\n",
        "Objective: https://dmoj.ca/problem/dmopc20c2p2 \n",
        "\n",
        "**Pseudocode ** \n",
        "N = length of scarf \n",
        "m = number of relatives \n",
        "\n",
        "1. Make scarf list [1, 2, 3, 4] (alt sample 1,2,3,2) \n",
        "relatives = [[1,3],[2,3]] \n",
        "\n",
        "- if ci > ci+1 not valid & ignore relative \n",
        "\n",
        "- if cn, cn+1 > len (scarf) not valid & ignore relative \n",
        "\n",
        "- for relative in relatives: \n",
        "  - check valid \n",
        "    - if valid find leng of scarf r[1] - r[0]+1\n",
        "      - if max leng > leng of scarf\n",
        "        - continue \n",
        "      - if max leng < leng\n",
        "        - max leng = leng of scarf \n"
      ],
      "metadata": {
        "id": "I_KlNDo5OaZ3"
      }
    },
    {
      "cell_type": "code",
      "source": [
        "scarf = [1,2,3,4, 1, 3, 2,4]\n",
        "relatives = [[1,3], [2,3], [5,2]]\n",
        "max_length = 0\n",
        "\n",
        "for relative in relatives: \n",
        "  if relative[0] > relative[1]: \n",
        "    print(\"crazy!\")\n",
        "  elif relative[0] not in scarf or relative[1] not in scarf:\n",
        "  #elif relative[0] > len(scarf) or relative[1] > len(scarf):\n",
        "    print(\"crazy\")\n",
        "\n",
        "  else: \n",
        "    length = relative[1]-relative[0] + 1\n",
        "    if length > max_length:\n",
        "      max_length = length\n",
        "print(max_length)"
      ],
      "metadata": {
        "colab": {
          "base_uri": "https://localhost:8080/"
        },
        "id": "pdpXuJTISVMm",
        "outputId": "7d93534c-b993-4117-80f7-226f0b0d28cc"
      },
      "execution_count": null,
      "outputs": [
        {
          "output_type": "stream",
          "name": "stdout",
          "text": [
            "crazy!\n",
            "3\n"
          ]
        }
      ]
    },
    {
      "cell_type": "markdown",
      "source": [
        "# Homework - Impractical problem 27 - Luka is writing coded sentences \n",
        "\n",
        "OBJECTIVE: See https://dmoj.ca/problem/coci08c3p2\n",
        "\n",
        "**Pseudocode**\n",
        "1. Read in string input \n",
        "1. Split string into words list \n",
        "2. Set vowels to [a,e,i,o,u] \n",
        "3. For word in list \n",
        "4. for letter in word\n",
        "5. If letter[i] is in vowel then replace letter[i+1] and letter [i+2] with \"\" \n",
        "\n",
        "\n"
      ],
      "metadata": {
        "id": "o-O4iSp3aAkK"
      }
    },
    {
      "cell_type": "code",
      "source": [
        "word = 'bapas jepe doposapadnapa opovapa kepemipijapa' #enter word or phrase\n",
        "vowels = ['A','a','E','e','I','i','O','o', 'U', 'u'] #create vowel string\n",
        "\n",
        "replace_strings = ['Apa', 'apa', 'Epe', 'epe', 'Ipi', 'ipi', 'Opo', 'opo', 'Upu','upu'] #create all options for the encoded string\n",
        "\n",
        "dictionary = dict(zip(replace_strings, vowels)) # make a dictionary with they key as replace string and the value being the vowel that should remain\n",
        "# print(dictionary)\n",
        "\n",
        "for k,v in dictionary.items():\n",
        "  word = word.replace(k,v)\n",
        "\n",
        "print(word)\n",
        "\n"
      ],
      "metadata": {
        "colab": {
          "base_uri": "https://localhost:8080/"
        },
        "id": "Yyt-2gBiZOr1",
        "outputId": "984f2615-4f43-49ed-f355-de38e0c07efe"
      },
      "execution_count": null,
      "outputs": [
        {
          "output_type": "stream",
          "name": "stdout",
          "text": [
            "{'Apa': 'A', 'apa': 'a', 'Epe': 'E', 'epe': 'e', 'Ipi': 'I', 'ipi': 'i', 'Opo': 'O', 'opo': 'o', 'Upu': 'U', 'upu': 'u'}\n",
            "bas je dosadna ova kemija\n"
          ]
        }
      ]
    },
    {
      "cell_type": "markdown",
      "source": [
        "# Impractical programming - Cow baseball \n",
        "\n",
        "OBJECTIVE: See http://www.usaco.org/index.php?page=viewproblem2&cpid=359\n",
        "\n",
        "Practice - 5 cows \n",
        "1, 3, 4, 7, 10 \n",
        "\n",
        "1. Sort input\n",
        "1. Find all combinations (1, 3, 7, | 1, 4, 7, |\n",
        "2. for list combinations find the difference between first and second element = a \n",
        "find difference between 2nd and 3rd element = b \n",
        "if b >= a and <= 2a keep the combination \n",
        "else continue  "
      ],
      "metadata": {
        "id": "fczoJ19daYuY"
      }
    },
    {
      "cell_type": "code",
      "source": [
        "from itertools import combinations\n",
        "\n",
        "\n",
        "sample_list = [3,4,5,6,7,8,9,10,11,12,13,14,15,16,17,18,19,20,21,22,23,24,25,26,27,28,29,30,31,32,33,34,35,36,37,38,39,40,41,42,43,44,45,46,47,48,49,50,51,52,53,54,55,56,57,58,59,60,61,62,63,64,65,66,67,68,69,70,71,72,73,74,75,76,77,78,79,80,81,82,83,84,85,86,87,88,89,90,91,92,93,94,95,96,97,98,99,100,101,102,103,104,105,106,107,108,109,110,111,112,113,114,115,116,117,118,119,120,121,122,123,124,125,126,127,128,129,130,131,132,133,134,135,136,137,138,139,140,141,142,143,144,145,146,147,148,149,150,151,152,153,154,155,156,157,158,159,160,161,162,163,164,165,166,167,168,169,170,171,172,173,174,175,176,177,178,179,180,181,182,183,184,185,186,187,188,189,190,191,192,193,194,195,196,197,198,199,200,201,202,203,204,205,206,207,208,209,210,211,212,213,214,215,216,217,218,219,220,221,222,223,224,225,226,227,228,229,230,231,232,233,234,235,236,237,238,239,240,241,242,243,244,245,246,247,248,249,250,251,252,253,254,255,256,257,258,259,260,261,262,263,264,265,266,267,268,269,270,271,272,273,274,275,276,277,278,279,280,281,282,283,284,285,286,287,288,289,290,291,292,293,294,295,296,297,298,299,300,301,302,303,304,305,306,307,308,309,310,311,312,313,314,315,316,317,318,319,320,321,322,323,324,325,326,327,328,329,330,331,332,333,334,335,336,337,338,339,340,341,342,343,344,345,346,347,348,349,350,351,352,353,354,355,356,357,358,359,360,361,362,363,364,365,366,367,368,369,370,371,372,373,374,375,376,377,378,379,380,381,382,383,384,385,386,387,388,389,390,391,392,393,394,395,396,397,398,399,400,401,402,403,404,405,406,407,408,409,410,411,412,413,414,415,416,417,418] #[16, 14, 23, 18, 1, 6, 11]\n",
        "sample_list.sort()\n",
        "list_combinations = list()\n",
        "#for n in range(len(sample_list) + 1):\n",
        "total = 0\n",
        "list_combinations = list(combinations(sample_list, 3))\n",
        "#print(list_combinations)\n",
        "\n",
        "for i in list_combinations: \n",
        "  a = i[1]-i[0]\n",
        "  b = i[2]-i[1]\n",
        "  if b >= a and b <=2*a:\n",
        "    #print(i)\n",
        "    total +=1 \n",
        "print(total)\n",
        "\n"
      ],
      "metadata": {
        "colab": {
          "base_uri": "https://localhost:8080/"
        },
        "id": "ugr8qG02briW",
        "outputId": "d0422da6-78c1-4df0-f105-4cdacc65eca3"
      },
      "execution_count": null,
      "outputs": [
        {
          "output_type": "stream",
          "name": "stdout",
          "text": [
            "2035569\n"
          ]
        }
      ]
    },
    {
      "cell_type": "code",
      "source": [
        "# alternative to above with for loops instead of using combinations \n",
        "\n",
        "for i in cows: \n",
        "  for j in cows: \n",
        "    first_two_dif = j - i \n",
        "    if first_two_diff > 0: \n",
        "      low = j +first_two_diff\n",
        "      high = j + first_two_diff*2 \n",
        "      for m in cows: \n",
        "        if m >= low and m <= high \n",
        "        total = total = 1 \n",
        "  print(total ) "
      ],
      "metadata": {
        "id": "jYFvSGw-b4e5"
      },
      "execution_count": null,
      "outputs": []
    }
  ]
}