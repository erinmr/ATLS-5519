{
  "nbformat": 4,
  "nbformat_minor": 0,
  "metadata": {
    "colab": {
      "name": "Day_6_ER_Submitted.ipynb",
      "provenance": [],
      "authorship_tag": "ABX9TyOe3Mvq3NWDgDJBZmVmkkPS",
      "include_colab_link": true
    },
    "kernelspec": {
      "name": "python3",
      "display_name": "Python 3"
    },
    "language_info": {
      "name": "python"
    }
  },
  "cells": [
    {
      "cell_type": "markdown",
      "metadata": {
        "id": "view-in-github",
        "colab_type": "text"
      },
      "source": [
        "<a href=\"https://colab.research.google.com/github/erinmr/ATLS-5519/blob/main/Day_6_ER_Submitted.ipynb\" target=\"_parent\"><img src=\"https://colab.research.google.com/assets/colab-badge.svg\" alt=\"Open In Colab\"/></a>"
      ]
    },
    {
      "cell_type": "markdown",
      "source": [
        "# Day 6 - June 9, 2022\n",
        "\n",
        "# IP 17: Hack the transposition \n",
        "\n",
        "Objective: Write a program (likely a variation of our program from IP #14) that takes some coded text and brute forces it.\n",
        "\n",
        "Need to know: \n",
        "- Length of key <= len(message) \n",
        "- for i in range(1, len(message))\n",
        "- Run decrypt script with key = i \n",
        "  \n",
        "**Transposition cipher:**"
      ],
      "metadata": {
        "id": "On62P0a9KCqX"
      }
    },
    {
      "cell_type": "code",
      "execution_count": 1,
      "metadata": {
        "colab": {
          "base_uri": "https://localhost:8080/",
          "height": 122
        },
        "id": "WOV4maLfJyk_",
        "outputId": "a3262d61-d715-4b92-f4c5-ac17a82a3f40"
      },
      "outputs": [
        {
          "output_type": "stream",
          "name": "stdout",
          "text": [
            "enter string: This is a message\n",
            "enter key: 3\n",
            "The message length is 17\n",
            "The number of blank spaces in the last row is: 1\n",
            "The encrypted message is: Tss sgh  mseiiaea\n"
          ]
        },
        {
          "output_type": "execute_result",
          "data": {
            "text/plain": [
              "'Tss sgh  mseiiaea'"
            ],
            "application/vnd.google.colaboratory.intrinsic+json": {
              "type": "string"
            }
          },
          "metadata": {},
          "execution_count": 1
        }
      ],
      "source": [
        "import math #We imported math so we could use the math functions below for ceiling \n",
        "\n",
        "def transposition_cipher(text, key): \n",
        "  rows = math.ceil(len(text)/key) #calculate number of rows \n",
        "  number_of_blanks = (rows*key) % len(text)\n",
        "  print(f'The number of blank spaces in the last row is: {number_of_blanks}')\n",
        "\n",
        "  encryptedmessage = '' #initialize the encrypted messgae string\n",
        "\n",
        "  i = 0 # counter for length of string\n",
        "  j = 0 # counter for number of rows\n",
        "\n",
        "  while i < key:\n",
        "    j = 0 #re-initialize j to repeat through rest of rows \n",
        "    while j < rows: \n",
        "      value = i+(key*j)\n",
        "      if value >= len(text): #stop iterating if reach the end of the string \n",
        "        break\n",
        "      #print(input[value])\n",
        "      encryptedmessage += text[value] #append the letter to the encrypted message string\n",
        "      j +=1  #add one to the row counter\n",
        "    i +=1 #add one to the key counter \n",
        "\n",
        "  print(f'The encrypted message is: {encryptedmessage}')\n",
        "  return(encryptedmessage)\n",
        "\n",
        "\n",
        "text = input(\"enter string: \")\n",
        "cols = int(input(\"enter key: \"))\n",
        "\n",
        "#text = 'THIS IS A longer MESSAGE.' #input message to encrypt\n",
        "#cols = 5 # the key is the number of columns to create \n",
        "\n",
        "print(f'The message length is {len(text)}') # print the message length \n",
        "\n",
        "transposition_cipher(text,cols)"
      ]
    },
    {
      "cell_type": "markdown",
      "source": [
        "## IP 17 *Brute* force transposition - HACK "
      ],
      "metadata": {
        "id": "ubBpKrvyLt6t"
      }
    },
    {
      "cell_type": "code",
      "source": [
        "def hack_transpose(message): \n",
        "\n",
        "  def decryptMessage(key, message):\n",
        "    # The transposition decrypt function will simulate the \"columns\" and\n",
        "    # \"rows\" of the grid that the plaintext is written on by using a list\n",
        "    # of strings. First, we need to calculate a few values.\n",
        "\n",
        "    # The number of \"columns\" in our transposition grid:\n",
        "    numOfColumns = int(math.ceil(len(message) / float(key)))\n",
        "    # The number of \"rows\" in our grid:\n",
        "    numOfRows = key\n",
        "    # The number of \"shaded boxes\" in the last \"column\" of the grid:\n",
        "    numOfShadedBoxes = (numOfColumns * numOfRows) - len(message)\n",
        "\n",
        "    # Each string in plaintext represents a column in the grid:\n",
        "    plaintext = [''] * numOfColumns\n",
        "\n",
        "    # The column and row variables point to where in the grid the next\n",
        "    # character in the encrypted message will go:\n",
        "    column = 0\n",
        "    row = 0\n",
        "\n",
        "    for symbol in message:\n",
        "      plaintext[column] += symbol\n",
        "      column += 1 # Point to the next column.\n",
        "\n",
        "        # If there are no more columns OR we're at a shaded box, go back\n",
        "        # to the first column and the next row:\n",
        "      if (column == numOfColumns) or (column == numOfColumns - 1 and\n",
        "        row >= numOfRows - numOfShadedBoxes):\n",
        "        column = 0\n",
        "        row += 1\n",
        "\n",
        "    return ''.join(plaintext)\n",
        "\n",
        "\n",
        "  for i in range(1,len(text)):\n",
        "    cols = i\n",
        "    print(f'The potential message is: {decryptMessage(cols,text)}')\n",
        "  #return()\n",
        "\n",
        "\n",
        "# This is the message to test -> message = 'TIlrSHSo AI nMGSAgEE  eS.'\n",
        "text = input(\"enter string: \")\n",
        "hack_transpose(text)\n",
        "\n"
      ],
      "metadata": {
        "colab": {
          "base_uri": "https://localhost:8080/"
        },
        "id": "9-k00qi6K4hQ",
        "outputId": "43e98d92-fa4b-4e83-e086-aea79378938b"
      },
      "execution_count": 15,
      "outputs": [
        {
          "output_type": "stream",
          "name": "stdout",
          "text": [
            "enter string: TIlrSHSo AI nMGSAgEE  eS.\n",
            "The potential message is: TIlrSHSo AI nMGSAgEE  eS.\n",
            "The potential message is: TMIGlSrASgHESEo   AeIS .n\n",
            "The potential message is: TAgIIEl Ern SM HGeSSSoA. \n",
            "The potential message is: ToMEI G lAS rIAeS gSHnE.S\n",
            "The potential message is: THIS IS A longer MESSAGE.\n",
            "The potential message is: THAMg ISIGEelo SESr nA .S\n",
            "The potential message is: TS nAEeIHAMg SlSIGE .ro S\n",
            "The potential message is: TSoIMAEeIH  Gg SlSAnSE .r\n",
            "The potential message is: TrSAnSE SISoIMAEe.lH  Gg \n",
            "The potential message is: TrSAnSgE SISoIMAE e.lH  G\n",
            "The potential message is: TrSA MSgE SISoInGAE e.lH \n",
            "The potential message is: TrHoA MSgE SISS InGAE e.l\n",
            "The potential message is: TlSS InGAE e.IrHoA MSgE S\n",
            "The potential message is: TlSS InGAE eS.IrHoA MSgE \n",
            "The potential message is: TlSS InGAE  eS.IrHoA MSgE\n",
            "The potential message is: TlSS InGAEE  eS.IrHoA MSg\n",
            "The potential message is: TlSS InGAgEE  eS.IrHoA MS\n",
            "The potential message is: TlSS InGSAgEE  eS.IrHoA M\n",
            "The potential message is: TlSS InMGSAgEE  eS.IrHoA \n",
            "The potential message is: TlSS I nMGSAgEE  eS.IrHoA\n",
            "The potential message is: TlSS AI nMGSAgEE  eS.IrHo\n",
            "The potential message is: TlSSo AI nMGSAgEE  eS.IrH\n",
            "The potential message is: TlSHSo AI nMGSAgEE  eS.Ir\n",
            "The potential message is: TlrSHSo AI nMGSAgEE  eS.I\n"
          ]
        }
      ]
    },
    {
      "cell_type": "markdown",
      "source": [
        "#Impractical Program #18: The Affine Cipher\n",
        "\n",
        "Objective: Write a Python program that will take a message and two key values, and encode it using the Affine cipher\n",
        "\n",
        "A B C D\n",
        "0 1 2 3\n",
        "\n",
        "k = 2 \n",
        "\n",
        "BAD -> \n",
        "DCB\n",
        "\n",
        "Multiply instead of add \n",
        "BAD -> 2 0 6 (do module math) 2 0 2 -> BAB \n",
        "\n",
        "Issues: \n",
        "- A will never be anything for 0 \n",
        "- A(x)+B (a = letter, x = key1 and b = key 2 (caesar shift) \n",
        "\n",
        "A and the length of the alphabet need to be co-prime which means that the only common factor that A and len(alphabet) \n"
      ],
      "metadata": {
        "id": "zChE-T4FL6IN"
      }
    },
    {
      "cell_type": "code",
      "source": [
        "#experimented with greatest common denominator \n",
        "\n",
        "a = 2 #\n",
        "alphabet_index = 'ABCDEFGHIJKLMNOPQRSTUVWXYZabcdefghijklmnopqrstuvwxyz .,!?-/$%'\n",
        "b = len(alphabet_index)\n",
        "print(b)\n",
        "#b = 6\n",
        "math.gcd(a,b) # find greatest commond denominator between a and b if = 1 then cipher will work "
      ],
      "metadata": {
        "colab": {
          "base_uri": "https://localhost:8080/"
        },
        "id": "_fL3UNIILVVM",
        "outputId": "161950f1-84aa-4892-a97c-72ba775d1ebf"
      },
      "execution_count": null,
      "outputs": [
        {
          "output_type": "stream",
          "name": "stdout",
          "text": [
            "61\n"
          ]
        },
        {
          "output_type": "execute_result",
          "data": {
            "text/plain": [
              "1"
            ]
          },
          "metadata": {},
          "execution_count": 29
        }
      ]
    },
    {
      "cell_type": "markdown",
      "source": [
        "## IP 18: Pseudocode for Affine Cipher\n",
        "\n",
        "1. User enters phrase\n",
        "2. User enters key for a \n",
        "3. User enters offset for b \n",
        "5. index = list of letters\n",
        "6. establish encrpyt '' \n",
        "4. if gcd(len(index), A) == 1: \n",
        "  - encrypt using ((a(x) +b) % len(index)) # formula for alphabet \n",
        "  for letter in phrase: \n",
        "    letter = (a*letter + b) % len(index) \n",
        "    value =  \n",
        "\n",
        "\n"
      ],
      "metadata": {
        "id": "1inK21xbRtGi"
      }
    },
    {
      "cell_type": "code",
      "source": [
        "import math\n",
        "\n",
        "\n",
        "message = 'This is a message!'\n",
        "key_value = 55\n",
        "key_value2 = 10\n",
        "\n",
        "def affine_cipher(message, key_value, key_value2):\n",
        "  encrypted_message = ''\n",
        "  alphabet_index = 'ABCDEFGHIJKLMNOPQRSTUVWXYZabcdefghijklmnopqrstuvwxyz .,!?-/$%'\n",
        "\n",
        "  if math.gcd(len(alphabet_index), key_value) == 1:\n",
        "    for letter in message:\n",
        "      if letter not in alphabet_index:\n",
        "        encrypted_message += letter \n",
        "        continue\n",
        "      #print('what goes here?')\n",
        "      x = alphabet_index.index(letter)\n",
        "      new_x = (key_value*(x) + key_value2)%len(alphabet_index)\n",
        "      encrypted_message += alphabet_index[new_x]\n",
        "  return(encrypted_message)\n",
        "\n",
        "print(affine_cipher(message, key_value, key_value2))"
      ],
      "metadata": {
        "colab": {
          "base_uri": "https://localhost:8080/"
        },
        "id": "LM1o1fRDNdcz",
        "outputId": "b795e785-92b1-4309-f333-d4247eb679a7"
      },
      "execution_count": 5,
      "outputs": [
        {
          "output_type": "stream",
          "name": "stdout",
          "text": [
            "S?yzDyzDlDaNzzlBNu\n"
          ]
        }
      ]
    },
    {
      "cell_type": "markdown",
      "source": [
        "# Find the inverse of the modulo\n",
        "Read this - https://inventwithpython.com/cracking/chapter13.html "
      ],
      "metadata": {
        "id": "zUdrRWUzUibU"
      }
    },
    {
      "cell_type": "code",
      "source": [
        "def findModInverse(a, m):\n",
        "  \n",
        "\n",
        "  if math.gcd(a, m) != 1:\n",
        "    return None  # No mod inverse if a & m aren't relatively prime.\n",
        "\n",
        "  u1, u2, u3 = 1, 0, a\n",
        "  v1, v2, v3 = 0, 1, m\n",
        "\n",
        "  while v3 != 0:\n",
        "    q = u3 // v3  # Note that // is the integer division operator.\n",
        "    v1, v2, v3, u1, u2, u3 = (u1 - q * v1), (u2 - q * v2), (u3 - q * v3), v1, v2, v3\n",
        "    v1, v2, v3\n",
        "  return u1 % m  "
      ],
      "metadata": {
        "id": "l8ymOXSLdV2S"
      },
      "execution_count": 14,
      "outputs": []
    },
    {
      "cell_type": "markdown",
      "source": [
        "Test function "
      ],
      "metadata": {
        "id": "bQYLSYcArdF6"
      }
    },
    {
      "cell_type": "code",
      "source": [
        "alphabet_index = 'ABCDEFGHIJKLMNOPQRSTUVWXYZabcdefghijklmnopqrstuvwxyz .,!?-/$%'\n",
        "inverse_a = findModInverse(key_value, len(alphabet_index))\n",
        "print(inverse_a)"
      ],
      "metadata": {
        "id": "yaXMPRPKeGs-",
        "colab": {
          "base_uri": "https://localhost:8080/"
        },
        "outputId": "a940adef-1c86-4307-a120-b6b36e8ff093"
      },
      "execution_count": 17,
      "outputs": [
        {
          "output_type": "stream",
          "name": "stdout",
          "text": [
            "10\n"
          ]
        }
      ]
    },
    {
      "cell_type": "markdown",
      "source": [
        "# IP 18 - Decrypting Affine Cipher \n",
        "\n",
        "To decrypt Affine we need this formula: x-B*modinvA % index "
      ],
      "metadata": {
        "id": "TIwrfQVihVQT"
      }
    },
    {
      "cell_type": "code",
      "source": [
        "import math\n",
        "\n",
        "\n",
        "def decode_affine(message, key_value, key_value2): #Creating function to decrypt affine \n",
        "\n",
        "  alphabet_index = 'ABCDEFGHIJKLMNOPQRSTUVWXYZabcdefghijklmnopqrstuvwxyz .,!?-/$%'\n",
        "  encrypted_message = ''\n",
        "\n",
        "  def findModInverse(a, m): #included this function here so that we can call it within\n",
        "    if math.gcd(a, m) != 1:\n",
        "      return None  # No mod inverse if a & m aren't relatively prime.\n",
        "\n",
        "    u1, u2, u3 = 1, 0, a\n",
        "    v1, v2, v3 = 0, 1, m\n",
        "\n",
        "    while v3 != 0:\n",
        "      q = u3 // v3  # Note that // is the integer division operator.\n",
        "      v1, v2, v3, u1, u2, u3 = (u1 - q * v1), (u2 - q * v2), (u3 - q * v3), v1, v2, v3\n",
        "      v1, v2, v3\n",
        "    return u1 % m  \n",
        "\n",
        "  inverse_a = findModInverse(key_value, len(alphabet_index)) #inverse modulo needed to decrypt affine\n",
        "\n",
        "\n",
        "  if math.gcd(len(alphabet_index), key_value) == 1:\n",
        "    for letter in message:\n",
        "      if letter not in alphabet_index:\n",
        "        encrypted_message += letter \n",
        "        continue\n",
        "      #print('what goes here?')\n",
        "      x = alphabet_index.index(letter)\n",
        "      new_x = (inverse_a * (x-key_value2)) % len(alphabet_index)\n",
        "  #    (key_value*(x) + key_value2)%len(alphabet_index) #a-1(index-a)mod len(alphabet)\n",
        "      encrypted_message += alphabet_index[new_x]\n",
        "  return(encrypted_message)\n",
        "\n",
        "\n",
        "\n",
        "message = input('Enter message to decode:') #'S?yzDyzDlDaNzzlBNu'\n",
        "key_value = int(input('Enter key value for a')) # 55 is test a\n",
        "key_value2 = int(input('Enter key value for b')) #10 is a test for b\n",
        "print(decode_affine(message, key_value, key_value2))\n"
      ],
      "metadata": {
        "colab": {
          "base_uri": "https://localhost:8080/"
        },
        "id": "sD9m0N4peZRN",
        "outputId": "8b0b2bdf-51dc-4172-ce49-2c3d5bb0a602"
      },
      "execution_count": 3,
      "outputs": [
        {
          "output_type": "stream",
          "name": "stdout",
          "text": [
            "Enter message to decode:S?yzDyzDlDaNzzlBNu\n",
            "Enter key value for a55\n",
            "Enter key value for b10\n",
            "This is a message!\n"
          ]
        }
      ]
    },
    {
      "cell_type": "markdown",
      "source": [
        "# Impractical Project #19: Encrypting with the Vigenere Cipher\n",
        "Objective: Write a program that takes a message and a key and uses the Vigenere cipher to encode it.\n",
        "\n",
        "\n",
        "- Message: Had Bad\n",
        "- Key = ADFC \n",
        "- ADF CAD -> those indexes and then add those index to the letter "
      ],
      "metadata": {
        "id": "KLCM6O6Fhdj6"
      }
    },
    {
      "cell_type": "code",
      "source": [
        "def vigenere_cipher(message, key):\n",
        "\n",
        "  symbolIndex = 'ABCDEFGHIJKLMNOPQRSTUVWXYZabcdefghijklmnopqrstuvwxyz.,!? '\n",
        "\n",
        "  def caesar_right(message,key):\n",
        "    \n",
        "  # symbolIndex='ABCDEFGHIJKLMNOPQRSTUVWXYZ'\n",
        "    translated = ''\n",
        "\n",
        "    for symbol in message: \n",
        "    \n",
        "      if symbol in symbolIndex: # if letter \n",
        "        symbol_index_value = symbolIndex.find(symbol)\n",
        "\n",
        "        translatedIndex = symbol_index_value + key # create the index for translation \n",
        "\n",
        "\n",
        "        if translatedIndex >= len(symbolIndex): \n",
        "          translatedIndex = translatedIndex - len(symbolIndex)\n",
        "\n",
        "        elif translatedIndex < 0: \n",
        "          translatedIndex = translatedIndex + len(symbolIndex)\n",
        "        \n",
        "        translated = translated + symbolIndex[translatedIndex]\n",
        "      \n",
        "      else: \n",
        "        translated = translated + symbol \n",
        "\n",
        "    return(translated)\n",
        "\n",
        "\n",
        "  letter_index= 0\n",
        "  encrypted = ''\n",
        "\n",
        "  translated_vig_key=[]\n",
        "\n",
        "  for letter in vig_key:\n",
        "    translated_vig_key.append(symbolIndex.find(letter))\n",
        "\n",
        "  print(translated_vig_key)\n",
        "\n",
        "  for letter in in_message:\n",
        "\n",
        "    k = translated_vig_key[letter_index%len(vig_key)]\n",
        "    x = caesar_right(letter, k)\n",
        "    \n",
        "    if letter not in symbolIndex: # if letter \n",
        "        print(letter)\n",
        "        continue\n",
        "\n",
        "    letter_index += 1\n",
        "    encrypted += x \n",
        "    \n",
        "  return(encrypted)\n",
        "\n",
        "\n",
        "in_message = \"HAD BAD\" #'HAD BAD'\n",
        "vig_key=\"ADFC\" #ADFC \n",
        "vigenere_cipher(in_message,vig_key)"
      ],
      "metadata": {
        "colab": {
          "base_uri": "https://localhost:8080/",
          "height": 53
        },
        "id": "QHC2PbXNfT40",
        "outputId": "7c299ed3-f2c1-49fa-c819-fb9d39c593c9"
      },
      "execution_count": 3,
      "outputs": [
        {
          "output_type": "stream",
          "name": "stdout",
          "text": [
            "[0, 3, 5, 2]\n"
          ]
        },
        {
          "output_type": "execute_result",
          "data": {
            "text/plain": [
              "'HDIBBDI'"
            ],
            "application/vnd.google.colaboratory.intrinsic+json": {
              "type": "string"
            }
          },
          "metadata": {},
          "execution_count": 3
        }
      ]
    },
    {
      "cell_type": "markdown",
      "source": [
        "#IP 19 - Decipher Vigenere Cipher"
      ],
      "metadata": {
        "id": "BcieiBAcvMCq"
      }
    },
    {
      "cell_type": "code",
      "source": [
        "def vigenere_decipher(message, key): #Create function for decipher \n",
        "\n",
        "  symbolIndex = 'ABCDEFGHIJKLMNOPQRSTUVWXYZabcdefghijklmnopqrstuvwxyz.,!? '\n",
        "\n",
        "  def caesar_right(message,key):\n",
        "    \n",
        "  # symbolIndex='ABCDEFGHIJKLMNOPQRSTUVWXYZ'\n",
        "    translated = ''\n",
        "\n",
        "    for symbol in message: \n",
        "    \n",
        "      if symbol in symbolIndex: # if letter \n",
        "        symbol_index_value = symbolIndex.find(symbol)\n",
        "\n",
        "        translatedIndex = symbol_index_value + key # create the index for translation \n",
        "\n",
        "\n",
        "        if translatedIndex >= len(symbolIndex): \n",
        "          translatedIndex = translatedIndex - len(symbolIndex)\n",
        "\n",
        "        elif translatedIndex < 0: \n",
        "          translatedIndex = translatedIndex + len(symbolIndex)\n",
        "        \n",
        "        translated = translated + symbolIndex[translatedIndex]\n",
        "      \n",
        "      else: \n",
        "        translated = translated + symbol \n",
        "\n",
        "    return(translated)\n",
        "\n",
        "\n",
        "  letter_index= 0\n",
        "  encrypted = ''\n",
        "\n",
        "  translated_vig_key=[]\n",
        "\n",
        "  for letter in vig_key:\n",
        "    translated_vig_key.append(symbolIndex.find(letter))\n",
        "\n",
        "  print(translated_vig_key)\n",
        "\n",
        "  for letter in in_message:\n",
        "\n",
        "    k = translated_vig_key[letter_index%len(vig_key)]\n",
        "    k = k*-1 #reverse the search THIS IS THE ONLY CHANGE to decipher \n",
        "    x = caesar_right(letter, k)\n",
        "    \n",
        "    if letter not in symbolIndex: # if letter not in index \n",
        "        print(letter)\n",
        "        continue\n",
        "\n",
        "    letter_index += 1\n",
        "    encrypted += x \n",
        "    \n",
        "  return(encrypted)\n",
        "\n",
        "\n",
        "in_message = input(\"Enter the phrase to decode\") #\"HDIBBDI\" #'HAD BAD'\n",
        "vig_key= input(\"Enter a text string key for the code (4 letters):\")#\"ADFC\"  \n",
        "vigenere_decipher(in_message,vig_key)"
      ],
      "metadata": {
        "colab": {
          "base_uri": "https://localhost:8080/",
          "height": 87
        },
        "id": "Pyox0AH8uY64",
        "outputId": "aa9efc78-4da4-47d0-d98b-50d222a32dab"
      },
      "execution_count": 2,
      "outputs": [
        {
          "output_type": "stream",
          "name": "stdout",
          "text": [
            "Enter the phrase to decodeHDIBBDI\n",
            "Enter a text string key for the code (4 letters):ADFC\n",
            "[0, 3, 5, 2]\n"
          ]
        },
        {
          "output_type": "execute_result",
          "data": {
            "text/plain": [
              "'HAD BAD'"
            ],
            "application/vnd.google.colaboratory.intrinsic+json": {
              "type": "string"
            }
          },
          "metadata": {},
          "execution_count": 2
        }
      ]
    },
    {
      "cell_type": "markdown",
      "source": [
        "#IP 21 - Bringing it all together 😀"
      ],
      "metadata": {
        "id": "wSbyQWKivpQd"
      }
    },
    {
      "cell_type": "code",
      "source": [
        "import math\n",
        "def caesar_right(message,key): \n",
        "  symbolIndex='ABCDEFGHIJKLMNOPQRSTUVWXYZ'\n",
        "  translated = ''\n",
        "\n",
        "  message = message.upper()\n",
        "\n",
        "  for symbol in message: \n",
        "   \n",
        "    if symbol in symbolIndex: # if letter \n",
        "      symbol_index_value = symbolIndex.find(symbol)\n",
        "\n",
        "      translatedIndex = symbol_index_value + key # create the index for translation \n",
        "\n",
        "\n",
        "      if translatedIndex >= len(symbolIndex): \n",
        "        translatedIndex = translatedIndex - len(symbolIndex)\n",
        "\n",
        "      elif translatedIndex < 0: \n",
        "        translatedIndex = translatedIndex + len(symbolIndex)\n",
        "      \n",
        "      translated = translated + symbolIndex[translatedIndex]\n",
        "    \n",
        "    else: \n",
        "      translated = translated + symbol \n",
        "\n",
        "  return(translated)\n",
        "\n",
        "def hack_caesar(phrase):\n",
        "  i = -25 # moves left to right with negative sign. i = 25 through the alphabet and uses offset of length of string -1 \n",
        "  encrypted = ''\n",
        "\n",
        "  while i < 0: # run caeser_left for each i and print. Review print statements to find \n",
        "    print(caesar_right(phrase, i)) #encrypted is the result message from the cell above \n",
        "   # print(i)\n",
        "    i += 1\n",
        "\n",
        "def reverse_cipher(string):\n",
        "  reverse_string = string[::-1]\n",
        "  return(reverse_string)\n",
        "\n",
        "def transposition_cipher(text, key): \n",
        "  rows = math.ceil(len(text)/key) #calculate number of rows \n",
        "  number_of_blanks = (rows*key) % len(text)\n",
        "  print(f'The number of blank spaces in the last row is: {number_of_blanks}')\n",
        "\n",
        "  encryptedmessage = '' #initialize the encrypted messgae string\n",
        "\n",
        "  i = 0 # counter for length of string\n",
        "  j = 0 # counter for number of rows\n",
        "\n",
        "  while i < key:\n",
        "    j = 0 #re-initialize j to repeat through rest of rows \n",
        "    while j < rows: \n",
        "      value = i+(key*j)\n",
        "      if value >= len(text): #stop iterating if reach the end of the string \n",
        "        break\n",
        "      #print(input[value])\n",
        "      encryptedmessage += text[value] #append the letter to the encrypted message string\n",
        "      j +=1  #add one to the row counter\n",
        "    i +=1 #add one to the key counter \n",
        "\n",
        "  print(f'The encrypted message is: {encryptedmessage}')\n",
        "  return(encryptedmessage)\n",
        "\n",
        "# This is code from canvas\n",
        "def decrypttranspose(key, message): #decryptTransposition\n",
        "  # The transposition decrypt function will simulate the \"columns\" and\n",
        "  # \"rows\" of the grid that the plaintext is written on by using a list\n",
        "  # of strings. First, we need to calculate a few values.\n",
        "\n",
        "  # The number of \"columns\" in our transposition grid:\n",
        "  numOfColumns = int(math.ceil(len(message) / float(key)))\n",
        "  # The number of \"rows\" in our grid:\n",
        "  numOfRows = key\n",
        "  # The number of \"shaded boxes\" in the last \"column\" of the grid:\n",
        "  numOfShadedBoxes = (numOfColumns * numOfRows) - len(message)\n",
        "\n",
        "  # Each string in plaintext represents a column in the grid:\n",
        "  plaintext = [''] * numOfColumns\n",
        "\n",
        "  # The column and row variables point to where in the grid the next\n",
        "  # character in the encrypted message will go:\n",
        "  column = 0\n",
        "  row = 0\n",
        "\n",
        "  for symbol in message:\n",
        "    plaintext[column] += symbol\n",
        "    column += 1 # Point to the next column.\n",
        "\n",
        "      # If there are no more columns OR we're at a shaded box, go back\n",
        "      # to the first column and the next row:\n",
        "    if (column == numOfColumns) or (column == numOfColumns - 1 and\n",
        "      row >= numOfRows - numOfShadedBoxes):\n",
        "      column = 0\n",
        "      row += 1\n",
        "\n",
        "  return ''.join(plaintext) \n",
        "\n",
        "def hack_transpose(message): \n",
        "\n",
        "  def decryptMessage(key, message):\n",
        "    # The transposition decrypt function will simulate the \"columns\" and\n",
        "    # \"rows\" of the grid that the plaintext is written on by using a list\n",
        "    # of strings. First, we need to calculate a few values.\n",
        "\n",
        "    # The number of \"columns\" in our transposition grid:\n",
        "    numOfColumns = int(math.ceil(len(message) / float(key)))\n",
        "    # The number of \"rows\" in our grid:\n",
        "    numOfRows = key\n",
        "    # The number of \"shaded boxes\" in the last \"column\" of the grid:\n",
        "    numOfShadedBoxes = (numOfColumns * numOfRows) - len(message)\n",
        "\n",
        "    # Each string in plaintext represents a column in the grid:\n",
        "    plaintext = [''] * numOfColumns\n",
        "\n",
        "    # The column and row variables point to where in the grid the next\n",
        "    # character in the encrypted message will go:\n",
        "    column = 0\n",
        "    row = 0\n",
        "\n",
        "    for symbol in message:\n",
        "      plaintext[column] += symbol\n",
        "      column += 1 # Point to the next column.\n",
        "\n",
        "        # If there are no more columns OR we're at a shaded box, go back\n",
        "        # to the first column and the next row:\n",
        "      if (column == numOfColumns) or (column == numOfColumns - 1 and\n",
        "        row >= numOfRows - numOfShadedBoxes):\n",
        "        column = 0\n",
        "        row += 1\n",
        "\n",
        "    return ''.join(plaintext)\n",
        "\n",
        "\n",
        "  for i in range(1,len(text)):\n",
        "    cols = i\n",
        "    print(f'The potential message is: {decryptMessage(cols,text)}')\n",
        "  #return()\n",
        "\n",
        "# Substitution Ciphers\n",
        "\n",
        "def substitution_cipher(initial, cipher, phrase):\n",
        "  encrypted_message='' #initialize the encrypted string \n",
        "\n",
        "  for letter in phrase: \n",
        "    if letter not in cipher:\n",
        "      encrypted_message += letter \n",
        "      continue\n",
        "    #value = initial[cipher.find(letter)]\n",
        "    value2= cipher[initial.find(letter)]\n",
        "    #print(value)\n",
        "    #append.value2\n",
        "    encrypted_message += value2\n",
        "    #print(value2)\n",
        "  return(encrypted_message)\n",
        "  \n",
        "def unencrypt_substitution_cipher(initial, cipher, phrase): #created a function with three variables - initial alpha, cipher alpha and phrase \n",
        "  unencrypted_message='' #initial the string \n",
        "\n",
        "  for letter in phrase: \n",
        "    if letter not in cipher: #if letter isn't in cipher, just add the letter and continue the for loop. Handles numbers, capitals, punctuation etc. \n",
        "      unencrypted_message += letter\n",
        "      continue\n",
        "    value = initial[cipher.find(letter)] \n",
        "    #value2= cipher[initial.find(letter)]\n",
        "    #print(value)\n",
        "    #append.value2\n",
        "    unencrypted_message += value\n",
        "    #print(value2)\n",
        "  return(unencrypted_message)\n",
        "\n",
        "# Affine \n",
        "\n",
        "\n",
        "def affine_cipher(message, key_value, key_value2):\n",
        "  encrypted_message = ''\n",
        "  alphabet_index = 'ABCDEFGHIJKLMNOPQRSTUVWXYZabcdefghijklmnopqrstuvwxyz .,!?-/$%'\n",
        "\n",
        "  if math.gcd(len(alphabet_index), key_value) == 1:\n",
        "    for letter in message:\n",
        "      if letter not in alphabet_index:\n",
        "        encrypted_message += letter \n",
        "        continue\n",
        "      #print('what goes here?')\n",
        "      x = alphabet_index.index(letter)\n",
        "      new_x = (key_value*(x) + key_value2)%len(alphabet_index)\n",
        "      encrypted_message += alphabet_index[new_x]\n",
        "  return(encrypted_message)\n",
        "\n",
        "# Affine Decrypt\n",
        "\n",
        "def decode_affine(message, key_value, key_value2): #Creating function to decrypt affine \n",
        "\n",
        "  alphabet_index = 'ABCDEFGHIJKLMNOPQRSTUVWXYZabcdefghijklmnopqrstuvwxyz .,!?-/$%'\n",
        "  encrypted_message = ''\n",
        "\n",
        "  def findModInverse(a, m): #included this function here so that we can call it within\n",
        "    if math.gcd(a, m) != 1:\n",
        "      return None  # No mod inverse if a & m aren't relatively prime.\n",
        "\n",
        "    u1, u2, u3 = 1, 0, a\n",
        "    v1, v2, v3 = 0, 1, m\n",
        "\n",
        "    while v3 != 0:\n",
        "      q = u3 // v3  # Note that // is the integer division operator.\n",
        "      v1, v2, v3, u1, u2, u3 = (u1 - q * v1), (u2 - q * v2), (u3 - q * v3), v1, v2, v3\n",
        "      v1, v2, v3\n",
        "    return u1 % m  \n",
        "\n",
        "  inverse_a = findModInverse(key_value, len(alphabet_index)) #inverse modulo needed to decrypt affine\n",
        "\n",
        "\n",
        "  if math.gcd(len(alphabet_index), key_value) == 1:\n",
        "    for letter in message:\n",
        "      if letter not in alphabet_index:\n",
        "        encrypted_message += letter \n",
        "        continue\n",
        "      #print('what goes here?')\n",
        "      x = alphabet_index.index(letter)\n",
        "      new_x = (inverse_a * (x-key_value2)) % len(alphabet_index)\n",
        "  #    (key_value*(x) + key_value2)%len(alphabet_index) #a-1(index-a)mod len(alphabet)\n",
        "      encrypted_message += alphabet_index[new_x]\n",
        "  return(encrypted_message)\n",
        "\n",
        "# Vigenere \n",
        "\n",
        "def vigenere_cipher(message, key):\n",
        "\n",
        "  symbolIndex = 'ABCDEFGHIJKLMNOPQRSTUVWXYZabcdefghijklmnopqrstuvwxyz.,!? '\n",
        "\n",
        "  def caesar_right(message,key):\n",
        "    \n",
        "  # symbolIndex='ABCDEFGHIJKLMNOPQRSTUVWXYZ'\n",
        "    translated = ''\n",
        "\n",
        "    for symbol in message: \n",
        "    \n",
        "      if symbol in symbolIndex: # if letter \n",
        "        symbol_index_value = symbolIndex.find(symbol)\n",
        "\n",
        "        translatedIndex = symbol_index_value + key # create the index for translation \n",
        "\n",
        "\n",
        "        if translatedIndex >= len(symbolIndex): \n",
        "          translatedIndex = translatedIndex - len(symbolIndex)\n",
        "\n",
        "        elif translatedIndex < 0: \n",
        "          translatedIndex = translatedIndex + len(symbolIndex)\n",
        "        \n",
        "        translated = translated + symbolIndex[translatedIndex]\n",
        "      \n",
        "      else: \n",
        "        translated = translated + symbol \n",
        "\n",
        "    return(translated)\n",
        "\n",
        "\n",
        "  letter_index= 0\n",
        "  encrypted = ''\n",
        "\n",
        "  translated_vig_key=[]\n",
        "\n",
        "  for letter in vig_key:\n",
        "    translated_vig_key.append(symbolIndex.find(letter))\n",
        "\n",
        "  print(translated_vig_key)\n",
        "\n",
        "  for letter in in_message:\n",
        "\n",
        "    k = translated_vig_key[letter_index%len(vig_key)]\n",
        "    x = caesar_right(letter, k)\n",
        "    \n",
        "    if letter not in symbolIndex: # if letter \n",
        "        print(letter)\n",
        "        continue\n",
        "\n",
        "    letter_index += 1\n",
        "    encrypted += x \n",
        "    \n",
        "  return(encrypted)\n",
        "\n",
        "# Vigenere Decrypt\n",
        "def vigenere_decipher(message, key): #Create function for decipher \n",
        "\n",
        "  symbolIndex = 'ABCDEFGHIJKLMNOPQRSTUVWXYZabcdefghijklmnopqrstuvwxyz.,!? '\n",
        "\n",
        "  def caesar_right(message,key):\n",
        "    \n",
        "  # symbolIndex='ABCDEFGHIJKLMNOPQRSTUVWXYZ'\n",
        "    translated = ''\n",
        "\n",
        "    for symbol in message: \n",
        "    \n",
        "      if symbol in symbolIndex: # if letter \n",
        "        symbol_index_value = symbolIndex.find(symbol)\n",
        "\n",
        "        translatedIndex = symbol_index_value + key # create the index for translation \n",
        "\n",
        "\n",
        "        if translatedIndex >= len(symbolIndex): \n",
        "          translatedIndex = translatedIndex - len(symbolIndex)\n",
        "\n",
        "        elif translatedIndex < 0: \n",
        "          translatedIndex = translatedIndex + len(symbolIndex)\n",
        "        \n",
        "        translated = translated + symbolIndex[translatedIndex]\n",
        "      \n",
        "      else: \n",
        "        translated = translated + symbol \n",
        "\n",
        "    return(translated)\n",
        "\n",
        "\n",
        "  letter_index= 0\n",
        "  encrypted = ''\n",
        "\n",
        "  translated_vig_key=[]\n",
        "\n",
        "  for letter in vig_key:\n",
        "    translated_vig_key.append(symbolIndex.find(letter))\n",
        "\n",
        "  print(translated_vig_key)\n",
        "\n",
        "  for letter in in_message:\n",
        "\n",
        "    k = translated_vig_key[letter_index%len(vig_key)]\n",
        "    k = k*-1 #reverse the search THIS IS THE ONLY CHANGE to decipher \n",
        "    x = caesar_right(letter, k)\n",
        "    \n",
        "    if letter not in symbolIndex: # if letter not in index \n",
        "        print(letter)\n",
        "        continue\n",
        "\n",
        "    letter_index += 1\n",
        "    encrypted += x \n",
        "    \n",
        "  return(encrypted)\n",
        "\n",
        "# Program starts here -> \n",
        "\n",
        "y = input('Do you want to encrypt or decrypt or hack? Enter encrypt, decrypt or hack as choice:')\n",
        "\n",
        "if y == 'decrypt':\n",
        "\n",
        "  x = input('Make a cipher choice to decrypt. Enter reverse, caesar, transpose, substitute, affine,  vigenere:')\n",
        "\n",
        "  if x == 'reverse':\n",
        "    string = input('Enter phrase to decrypt')\n",
        "    encrypted = reverse_cipher(string)\n",
        "    print(encrypted)\n",
        "\n",
        "  elif x == 'caesar':\n",
        "    string = input('Enter phrase to decrypt')\n",
        "    key = int(input('Enter key used in encryption'))*-1 #revereses the caesar to decripty \n",
        "    encrypted = caesar_right(string,key)\n",
        "    print(encrypted)\n",
        "\n",
        "  elif x == 'transpose':\n",
        "    string = input('Enter phrase to decrypt')\n",
        "    key = int(input('Enter key used in encryption')) #revereses the caesar to decripty \n",
        "    encrypted = decrypttranspose(key, string)\n",
        "    print(encrypted)\n",
        "\n",
        "  elif x =='substitute':\n",
        "    initial = 'abcdefghijklmnopqrstuvwxyz'\n",
        "    cipher = 'qwertyuiopasdfghjklzxcvbnm'\n",
        "    phrase = input('Enter phrase to decrypt')\n",
        "    encrypted = unencrypt_substitution_cipher(initial, cipher, phrase)\n",
        "    print(encrypted)\n",
        "\n",
        "  elif x == 'affine':\n",
        "    message = input('Enter message to decrypt:') #'S?yzDyzDlDaNzzlBNu'\n",
        "    key_value = int(input('Enter key value for a')) # 55 is test a\n",
        "    key_value2 = int(input('Enter key value for b')) #10 is a test for b\n",
        "    encrypted = decode_affine(message, key_value, key_value2)\n",
        "    print(encrypted)\n",
        "\n",
        "  elif x == 'vigenere':\n",
        "    in_message = input(\"Enter the phrase to decrypt:\") #\"HDIBBDI\" #'HAD BAD'\n",
        "    vig_key= input(\"Enter a text string key for the code (4 letters):\")#\"ADFC\"  \n",
        "    encrypted = vigenere_decipher(in_message,vig_key)\n",
        "    print(encrypted)\n",
        "\n",
        "  else: \n",
        "    print('try again')\n",
        "\n",
        "elif y == 'encrypt':\n",
        "\n",
        "  x = input('Make a cipher choice to encrypt. Enter reverse, caesar, transpose, substitute, affine,  vigenere:')\n",
        "\n",
        "  if x == 'reverse':\n",
        "    string = input('Enter phrase to encrypt')\n",
        "    encrypted = reverse_cipher(string)\n",
        "    print(encrypted)\n",
        "\n",
        "  elif x == 'caesar':\n",
        "    string = input('Enter phrase to encrypt')\n",
        "    key = int(input('Enter key used in encryption'))\n",
        "    encrypted = caesar_right(string,key)\n",
        "    print(encrypted)\n",
        "\n",
        "  elif x == 'transpose':\n",
        "    string = input('Enter phrase to encrypt')\n",
        "    key = int(input('Enter key used in encryption')) \n",
        "    encrypted = transposition_cipher(string, key)\n",
        "    print(encrypted)\n",
        "\n",
        "  elif x =='substitute':\n",
        "    initial = 'abcdefghijklmnopqrstuvwxyz' #made choice not to ask the user for an alphabet \n",
        "    cipher = 'qwertyuiopasdfghjklzxcvbnm' # made choice not to ask user for cipher key \n",
        "    phrase = input('Enter phrase to encrypt')\n",
        "    encrypted = substitution_cipher(initial, cipher, phrase)\n",
        "    print(encrypted)\n",
        "\n",
        "  elif x == 'affine':\n",
        "    message = input('Enter message to encrypt:') #'S?yzDyzDlDaNzzlBNu'\n",
        "    key_value = int(input('Enter key value for a')) # 55 is test a\n",
        "    key_value2 = int(input('Enter key value for b')) #10 is a test for b\n",
        "    encrypted = affine_cipher(message, key_value, key_value2)\n",
        "    print(encrypted)\n",
        "\n",
        "  elif x == 'vigenere':\n",
        "    in_message = input(\"Enter the phrase to encrypt\") #\"HDIBBDI\" #'HAD BAD'\n",
        "    vig_key= input(\"Enter a text string key for the code (4 letters):\")#\"ADFC\"  \n",
        "    encrypted = vigenere_cipher(in_message,vig_key)\n",
        "    print(encrypted)\n",
        "\n",
        "  else: \n",
        "    print('try again')\n",
        "\n",
        "\n",
        "elif y == 'hack':\n",
        "  x = input('Make a cipher choice to hack. Enter reverse, caesar, transpose, substitute:')\n",
        "\n",
        "  if x == 'reverse':\n",
        "    string = input('Enter phrase to hack')\n",
        "    encrypted = reverse_cipher(string)\n",
        "    print(encrypted)\n",
        "\n",
        "  elif x == 'caesar':\n",
        "    string = input('Enter phrase to hack')\n",
        "    encrypted = hack_caesar(string)\n",
        "    print(encrypted)\n",
        "\n",
        "  elif x == 'transpose':\n",
        "    string = input('Enter phrase to hack') \n",
        "    encrypted = hack_transpose(string)\n",
        "    print(encrypted)\n",
        "\n",
        "  elif x =='substitute':\n",
        "    initial = 'abcdefghijklmnopqrstuvwxyz'\n",
        "    cipher = 'qwertyuiopasdfghjklzxcvbnm'\n",
        "    phrase = input('Enter phrase to decrypt')\n",
        "    encrypted = unencrypt_substitution_cipher(initial, cipher, phrase)\n",
        "    print(encrypted)\n",
        "\n",
        "\n",
        "  else: \n",
        "    print('try again')\n",
        "\n"
      ],
      "metadata": {
        "id": "uzjhqOk7oWTY",
        "colab": {
          "base_uri": "https://localhost:8080/"
        },
        "outputId": "a232db4b-5271-4c37-839d-388b2e02c92e"
      },
      "execution_count": 17,
      "outputs": [
        {
          "output_type": "stream",
          "name": "stdout",
          "text": [
            "Do you want to encrypt or decrypt or hack? Enter encrypt, decrypt or hack as choice:encrypt\n",
            "Make a cipher choice to encrypt. Enter reverse, caesar, transpose, substitute, affine,  vigenere:reverse\n",
            "Enter phrase to encryptErin Robinson\n",
            "nosniboR nirE\n"
          ]
        }
      ]
    },
    {
      "cell_type": "code",
      "source": [
        ""
      ],
      "metadata": {
        "id": "dL3h6bo4xk6w"
      },
      "execution_count": null,
      "outputs": []
    }
  ]
}